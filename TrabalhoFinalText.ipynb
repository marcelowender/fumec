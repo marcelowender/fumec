{
  "nbformat": 4,
  "nbformat_minor": 0,
  "metadata": {
    "colab": {
      "name": "TrabalhoFinalText.ipynb",
      "version": "0.3.2",
      "provenance": [],
      "include_colab_link": true
    },
    "kernelspec": {
      "name": "python3",
      "display_name": "Python 3"
    }
  },
  "cells": [
    {
      "cell_type": "markdown",
      "metadata": {
        "id": "view-in-github",
        "colab_type": "text"
      },
      "source": [
        "<a href=\"https://colab.research.google.com/github/marcelowender/fumec/blob/master/TrabalhoFinalText.ipynb\" target=\"_parent\"><img src=\"https://colab.research.google.com/assets/colab-badge.svg\" alt=\"Open In Colab\"/></a>"
      ]
    },
    {
      "cell_type": "markdown",
      "metadata": {
        "id": "72Alvnol6y7z",
        "colab_type": "text"
      },
      "source": [
        "# Trabalho final Processamento de Linguagem Natural\n",
        "\n",
        "\n",
        "Modelagem de tópicos realizada utilizando uma base de dados de descrições de cargos de diversas empresas de vários segmentos.\n",
        "\n",
        "Através do processo de modelagem de tópicos este trabalho tem como objetivo analisar os dados desta base e encontrar padrões.\n",
        "\n",
        "**Descrição de Cargos**\n",
        "\n",
        "\n",
        "A descrição de cargos é o processo de detalhamento de cada posição dentro da companhia. Com ela, é possível verificar e formalizar as atividades e responsabilidades de todos os postos da organização, agregando maior organização ao negócio."
      ]
    },
    {
      "cell_type": "markdown",
      "metadata": {
        "id": "hM6mwCaA9T1i",
        "colab_type": "text"
      },
      "source": [
        "## Import das bibliotecas\n",
        "\n",
        "Foram utilizadas as seguintes bibliotecas:\n",
        "\n",
        "\n",
        "\n",
        "\n",
        "> **json** - Responsável pela leitura do corpus \n",
        "\n",
        "> **drive** - A biblioteca drive é utilizada para carregar um arquivo a partir do Google Drive\n",
        "\n",
        "\n",
        "> **spacy** - A biblioteca spacy ajuda no pre processamento do texto e na preparação do corpus\n",
        "\n",
        "\n",
        "> **gensim** - Biblioteca que possui os algoritimos para realizar a modelagem de tópicos\n",
        "\n",
        "\n",
        "\n",
        "> **nltk** - Biblioteca utilizada também no pré processamento  do texto(remoção de stopwords e tokenização)\n",
        "\n"
      ]
    },
    {
      "cell_type": "code",
      "metadata": {
        "id": "OGjuQ3mN3E7v",
        "colab_type": "code",
        "outputId": "b5a539d4-610a-4baf-cae0-116aae01170f",
        "colab": {
          "base_uri": "https://localhost:8080/",
          "height": 394
        }
      },
      "source": [
        "import json\n",
        "import spacy\n",
        "import gensim\n",
        "import nltk\n",
        "from google.colab import drive\n",
        "!python -m spacy download pt_core_news_sm\n",
        "nlp = spacy.load(\"pt_core_news_sm\")\n",
        "from gensim.models import CoherenceModel, LdaModel, LsiModel, HdpModel\n",
        "from gensim.models.wrappers import LdaMallet\n",
        "from gensim.corpora import Dictionary\n",
        "nltk.download('stopwords')\n",
        "nltk.download('punkt')\n",
        "nltk.download('rslp')\n",
        "from nltk.corpus import stopwords\n",
        "from nltk.tokenize import word_tokenize\n"
      ],
      "execution_count": 0,
      "outputs": [
        {
          "output_type": "stream",
          "text": [
            "/usr/local/lib/python3.6/dist-packages/smart_open/ssh.py:34: UserWarning: paramiko missing, opening SSH/SCP/SFTP paths will be disabled.  `pip install paramiko` to suppress\n",
            "  warnings.warn('paramiko missing, opening SSH/SCP/SFTP paths will be disabled.  `pip install paramiko` to suppress')\n"
          ],
          "name": "stderr"
        },
        {
          "output_type": "stream",
          "text": [
            "Collecting pt_core_news_sm==2.0.0 from https://github.com/explosion/spacy-models/releases/download/pt_core_news_sm-2.0.0/pt_core_news_sm-2.0.0.tar.gz#egg=pt_core_news_sm==2.0.0\n",
            "\u001b[?25l  Downloading https://github.com/explosion/spacy-models/releases/download/pt_core_news_sm-2.0.0/pt_core_news_sm-2.0.0.tar.gz (38.7MB)\n",
            "\u001b[K    100% |████████████████████████████████| 38.7MB 120.7MB/s \n",
            "\u001b[?25hInstalling collected packages: pt-core-news-sm\n",
            "  Running setup.py install for pt-core-news-sm ... \u001b[?25ldone\n",
            "\u001b[?25hSuccessfully installed pt-core-news-sm-2.0.0\n",
            "\n",
            "\u001b[93m    Linking successful\u001b[0m\n",
            "    /usr/local/lib/python3.6/dist-packages/pt_core_news_sm -->\n",
            "    /usr/local/lib/python3.6/dist-packages/spacy/data/pt_core_news_sm\n",
            "\n",
            "    You can now load the model via spacy.load('pt_core_news_sm')\n",
            "\n",
            "[nltk_data] Downloading package stopwords to /root/nltk_data...\n",
            "[nltk_data]   Unzipping corpora/stopwords.zip.\n",
            "[nltk_data] Downloading package punkt to /root/nltk_data...\n",
            "[nltk_data]   Unzipping tokenizers/punkt.zip.\n",
            "[nltk_data] Downloading package rslp to /root/nltk_data...\n",
            "[nltk_data]   Unzipping stemmers/rslp.zip.\n"
          ],
          "name": "stdout"
        }
      ]
    },
    {
      "cell_type": "markdown",
      "metadata": {
        "id": "bEi4nY2u7KcD",
        "colab_type": "text"
      },
      "source": [
        "### **Montagem do Drive**"
      ]
    },
    {
      "cell_type": "code",
      "metadata": {
        "id": "yCJ_SYKl7PLT",
        "colab_type": "code",
        "outputId": "07803b54-7bdb-4c48-a075-aa78cfc76a8f",
        "colab": {
          "base_uri": "https://localhost:8080/",
          "height": 122
        }
      },
      "source": [
        "drive.mount('/content/drive', force_remount=True)\n"
      ],
      "execution_count": 0,
      "outputs": [
        {
          "output_type": "stream",
          "text": [
            "Go to this URL in a browser: https://accounts.google.com/o/oauth2/auth?client_id=947318989803-6bn6qk8qdgf4n4g3pfee6491hc0brc4i.apps.googleusercontent.com&redirect_uri=urn%3Aietf%3Awg%3Aoauth%3A2.0%3Aoob&scope=email%20https%3A%2F%2Fwww.googleapis.com%2Fauth%2Fdocs.test%20https%3A%2F%2Fwww.googleapis.com%2Fauth%2Fdrive%20https%3A%2F%2Fwww.googleapis.com%2Fauth%2Fdrive.photos.readonly%20https%3A%2F%2Fwww.googleapis.com%2Fauth%2Fpeopleapi.readonly&response_type=code\n",
            "\n",
            "Enter your authorization code:\n",
            "··········\n",
            "Mounted at /content/drive\n"
          ],
          "name": "stdout"
        }
      ]
    },
    {
      "cell_type": "markdown",
      "metadata": {
        "id": "uut5lwUv7fvT",
        "colab_type": "text"
      },
      "source": [
        "### Leitura do arquivo"
      ]
    },
    {
      "cell_type": "code",
      "metadata": {
        "id": "FIbtdSc37e4S",
        "colab_type": "code",
        "colab": {}
      },
      "source": [
        "with open('/content/drive/My Drive/Cargos.json') as f:\n",
        "  cargos = json.loads(f.read(), strict=False)\n"
      ],
      "execution_count": 0,
      "outputs": []
    },
    {
      "cell_type": "markdown",
      "metadata": {
        "id": "5BuPOlAaFPZ_",
        "colab_type": "text"
      },
      "source": [
        "### Visualização dos dados"
      ]
    },
    {
      "cell_type": "code",
      "metadata": {
        "id": "humT7UVZCgnN",
        "colab_type": "code",
        "outputId": "4d369552-c5c4-4ce7-88e8-85cad9cf57b1",
        "colab": {
          "base_uri": "https://localhost:8080/",
          "height": 190
        }
      },
      "source": [
        "print(*cargos[:9], sep='\\n') \n",
        "\n",
        "#https://docs.python.org/3.7/tutorial/controlflow.html#unpacking-argument-lists"
      ],
      "execution_count": 0,
      "outputs": [
        {
          "output_type": "stream",
          "text": [
            "{'enterprise': 2, 'cbo': '142315', 'name': 'Gerente de Marketing', 'summarydescription': 'Gerenciar a área de marketing.', 'description': '[\"Realizar ,2\", \"Realizar ! 1\"]', 'attribute': '[\"Marketing\", \"Análise de Sistemas\", \"Inglês\", \"Espanhol\", \"Gestão de pessoas\"]'}\n",
            "{'enterprise': 3, 'cbo': '142205', 'name': 'Gerente de Recursos Humanos', 'summarydescription': 'Gerenciar, planejar, controlar o processo de Recrutamento e Seleção de pessoal, ocorra de acordo com os perfis indicados pelas áreas, a implementação, manutenção e cumprimento dos planos e políticas de remuneração, benefícios, relações trabalhistas, carreira e sucessão e acompanhamento de pessoal.', 'description': None, 'attribute': None}\n",
            "{'enterprise': 3, 'cbo': '123205', 'name': 'Diretor de Recursos Humanos', 'summarydescription': '', 'description': None, 'attribute': '[\"Análise de Sistemas\", \"Antropologia\", \"Arqueologia\", \"Francês\", \"Análise de problemas\"]'}\n",
            "{'enterprise': 4, 'cbo': None, 'name': 'Analista de Recursos Humanos Júnior', 'summarydescription': 'Analisar, controlar e acompanhar a execução das atividades de administração de pessoal, folha de pagamento, processos de admissão, férias e rescisão e na elaboração de relatórios diversos.', 'description': '[\"Atuar no desenvolvimento e aplicação de novos projetos e processos, assegurando sua devida implantação.\", \"Cumprir a legislação e políticas da Empresa, bem como os padrões e procedimentos de saúde, segurança e meio ambiente, zelar pelas condições de higiene e organização no ambiente de trabalho.\", \"Analisar, aplicar, controlar e acompanhar as atividades e recursos inerentes a área de Recursos Humanos da Empresa.\", \"Acompanhar o processo de auditoria interna nos procedimentos de SOX.\", \"Assegurar o cumprimento da legislação, bem como as normas e políticas institucionais da Empresa, assim como o cumprimento dos padrões estabelecidos, e zelando pelo patrimônio da Empresa.\", \"Executar a implantação de planos de trabalho e procedimentos do setor, analisando e efetivando a realização das ações e atividades relacionadas, visando o alcance de objetivos e metas estabelecidas.\", \"Controlar a gestão do processo de contrato de temporários e estagiários junto a empresa responsável, mantendo os gerentes informados do início e término dos contratos bem como as responsabilidades das partes.\", \"Aplicar melhorias nos processos, produtos ou serviços sob sua responsabilidade, visando garantir resultados efetivos e resguardando a segurança dos ativos da Empresa.\", \"Controlar e acompanhar a execução das atividades de administração de pessoal, folha de pagamento, processos de admissão, férias e rescisão e na elaboração de relatórios diversos.\", \"Manter e cumprir as políticas institucionais junto aos fornecedores e órgãos externos, assegurando o devido comportamento ético no relacionamento com parceiros do negócio.\", \"Prestar suporte técnico ao gestor da área em assuntos relacionados ao setor e atividades de sua responsabilidade, seguindo determinações de seu responsável imediato.\", \"Controlar e acompanhar o cumprimento da legislação trabalhista e previdenciária, através da leitura e interpretação de textos legais, submetendo ao coordenador de Recursos Humanos as propostas de implementação das alterações.\", \"Elaborar e executar a atualização de relatórios e indicadores do setor, acompanhando e analisando resultados, a fim de garantir o cumprimento de procedimentos, metas, e ações corretivas necessárias.\", \"Aplicar conhecimento técnico e operacional nas ações e atividades a serem desenvolvidas no setor, visando à análise de processos, a fim de aperfeiçoar os esforços para o alcance de resultados.\", \"Controlar e acompanhar a manutenção do Plano de Benefícios oferecidos pelas empresas, mediante a avaliação dos serviços prestados, levantamento das necessidades e solicitações dos empregados e pesquisa quanto às práticas do mercado.\"]', 'attribute': None}\n",
            "{'enterprise': 4, 'cbo': None, 'name': 'Analista Contábil e Tributário Pleno', 'summarydescription': 'Analisar, controlar e acompanhar as atividades da área fiscal e tributário, visando o cumprimento da legislação aplicável a cada operação, bem como as atividades contábeis, como apuração de impostos e o fechamento contábil, conciliação de contas, análise de transferências e movimentações, registro fiscais, demonstrativos contábeis/financeiros, balanços, visando o atendimento aos órgãos governamentais.', 'description': '[\"Cumprir a legislação e políticas da Empresa, bem como os padrões e procedimentos de saúde, segurança e meio ambiente, zelar pelas condições de higiene e organização no ambiente de trabalho.\", \"Classificar e conferir documentos fiscais/tributários, preparando para análise, criando relatórios estatísticos sobre o desenvolvimento da área contábil.\", \"Elaborar e executar a atualização de relatórios e indicadores do setor, acompanhando e analisando resultados, a fim de garantir o cumprimento de procedimentos, metas, e ações corretivas necessárias.\", \"Atuar no desenvolvimento e aplicação de novos projetos e processos, assegurando sua devida implantação.\", \"Apoiar no cumprimento legal do registro dos livros contábeis e fiscais da Empresa.\", \"Controlar e atualizar o sistema de gerenciamento de gasto de capital e controle patrimonial, para controle e contabilização dos bens da Empresa.\", \"Executar a implantação de planos de trabalho e procedimentos do setor, analisando e efetivando a realização das ações e atividades relacionadas, visando o alcance de objetivos e metas estabelecidas.\", \"Controlar e acompanhar os Regimes Especiais tributários e fiscais, seus protocolos e pedidos de renovação e extensão a outros estabelecimentos quando necessários e aplicáveis.\", \"Realizar a apuração de impostos e o fechamento contábil, através da classificação de documentos contábeis, conciliação de contas, análise de transferências e movimentações e a realização de registros fiscais.\", \"Analisar e controlar para que o sistema operacional da empresa esteja atualizado e com a legislação aplicável a cada operação e de cada estabelecimento, inclusive daqueles localizados em outros Estados da Federação. (Tabela JBTAX).\", \"Assegurar o cumprimento da legislação, bem como as normas e políticas institucionais da Empresa, assim como o cumprimento dos padrões estabelecidos, e zelando pelo patrimônio da Empresa.\", \"Elaborar demonstrativos contábeis/financeiros, mediante a preparação e análise de balancetes, balanços, Declaração de Imposto de Renda, informações cadastrais e contábeis, para atendimento aos órgãos governamentais e acionistas.\", \"Aplicar conhecimento técnico e operacional nas ações e atividades a serem desenvolvidas no setor, visando à análise de processos, a fim de aperfeiçoar os esforços para o alcance de resultados.\", \"Aplicar melhorias nos processos, produtos ou serviços sob sua responsabilidade, visando garantir resultados efetivos e resguardando a segurança dos ativos da Empresa.\", \"Prestar suporte técnico ao gestor da área em assuntos relacionados ao setor e atividades de sua responsabilidade, seguindo determinações de seu responsável imediato.\", \"Manter e cumprir as políticas institucionais junto aos fornecedores e órgãos externos, assegurando o devido comportamento ético no relacionamento com parceiros do negócio.\", \"Realizar o atendimento a auditoria interna e externa para fiscalização.\", \"Controlar e acompanhar o atendimento das obrigações acessórias.\", \"Realizar a preparação e emissão de demonstrações financeiras para instituições financeiras, fornecedores e clientes, para realização de cadastros.\", \"Controlar o preenchimento da ECF (Declaração ao fisco do IRPJ e CSLL) e a escrituração do e-LALUR e e-LACS pela Contabilidade.\", \"Controlar conceitualmente as apurações de IRPJ, PIS e COFINS preparadas pela Contabilidade. Controlar e acompanhar a manutenção da Tabela JBTAX.\", \"Realizar o acompanhamento da legislação tributária municipal, estadual e federal, atentando para as implicações nas operações da empresa.\", \"Realizar a conciliação de contas contábeis diversas.\"]', 'attribute': None}\n",
            "{'enterprise': 4, 'cbo': None, 'name': 'Coordenador Contábil e Tributário', 'summarydescription': 'Coordenar e acompanhar as atividades da área contábil e tributário, subsidiando as áreas da Empresa no planejamento legal de tributos, visando a transferência ou redução de carga tributária, bem como a contabilização dos documentos, conciliação de contas, análise das demonstrações financeiras e a apuração de impostos e emissão de documentos legais.', 'description': '[\"Garantir o desenvolvimento e aplicação de novos projetos e processos, a fim de assegurar sua devida implantação.\", \"Coordenar e acompanhar as atividades da área fiscal e fiscal, repassando os relatórios e indicadores ao gestor imediato e demais áreas da Empresa no planejamento legal de tributos, visando a transferência ou redução da carga tributária.\", \"Prestar informações sobre Imposto de Renda, para colaboradores e prestadores de serviços.\", \"Revisar e aprovar as obrigações acessórias que são entregues ao governo. (Declaração de imposto de renda, informativos de recolhimento de impostos, etc.)\", \"Assegurar o cumprimento da legislação, bem como as normas e políticas institucionais da Empresa, assim como o cumprimento dos padrões estabelecidos, e zelando pelo patrimônio da Empresa.\", \"Analisar e orientar as demais áreas da Empresa quanto aos aspectos legais e fiscais exigidos em editais de licitações, prestando informações e esclarecendo dúvidas que se façam necessárias.\", \"Elaborar relatórios e indicadores dos setores sob sua responsabilidade, acompanhando e analisando resultados, a fim de garantir o cumprimento de procedimentos, metas, e ações corretivas necessárias.\", \"Controlar e acompanhar as datas de recolhimentos de todos os tributos e contribuições de obrigação da Empresa.\", \"Coordenar e orientar a equipe quanto a atualização do Controle Patrimonial Contábil da Empresa, realizando a análise dos relatórios elaborados, para subsidiar a Diretoria em suas decisões.\", \"Cumprir a legislação e políticas da Empresa, bem como os padrões e procedimentos de saúde, segurança e meio ambiente, zelar pelas condições de higiene e organização no ambiente de trabalho.\", \"Coordenar as atividades de contabilização dos documentos, conciliação de contas, análise das demonstrações financeiras, bem como a apuração de impostos e emissão de documentos legais.\", \"Garantir a adequação dos lançamentos em Livros Fiscais e providenciar seu registro, objetivando o atendimento às exigências legais.\", \"Manter e cumprir as políticas institucionais junto aos fornecedores e órgãos externos, assegurando o devido comportamento ético no relacionamento com parceiros do negócio.\", \"Realizar as atividades de conciliação bancária.\", \"Participar da elaboração e acompanhar o plano orçamentário da área, mantendo as despesas de acordo com os valores dimensionados, acompanhando resultados e buscando alternativas de eficiência.\", \"Aplicar políticas e práticas de gestão de pessoas, assegurando o desenvolvimento da equipe com foco em resultados, garantindo a conduta de respeito às pessoas e a manutenção do clima organizacional.\", \"Buscar e aplicar melhorias nos processos, produtos ou serviços sob sua responsabilidade, visando garantir resultados efetivos e resguardando a segurança dos ativos da Empresa.\", \"Controlar e acompanhar a renovação de alvarás e certidões negativas de débitos, para atender às necessidades legais.\", \"Orientar e prestar informações, no âmbito fiscal e tributário, às diversas áreas que interagem com a Contabilidade.\", \"Controlar e acompanhar os processos fiscais e tributários em andamento junto aos órgãos oficiais e instituições governamentais.\", \"Coordenar e direcionar as atividades da equipe, orientando os responsáveis dos setores e processos, apoiando e buscando os meios para garantir o alcance de resultados.\", \"Efetuar controle orçamentário anual, acompanhando mensalmente as previsões, controlando os custos para adequar as previsões e diminuições de custos operacionais.\", \"Alterar e atualizar o Plano de Contas da Empresa.\", \"Controlar e preparar as demonstrações financeiras.\"]', 'attribute': None}\n",
            "{'enterprise': 4, 'cbo': None, 'name': 'Coordenador de Custos e FP&A', 'summarydescription': 'Coordenar as atividades relacionadas a área de Custos e FP&A, através da análise de custos, projeção de resultados, custeio na formação de orçamentos, inventário físico e contábil-fiscal.', 'description': '[\"Manter e cumprir as políticas institucionais junto aos fornecedores e órgãos externos, assegurando o devido comportamento ético no relacionamento com parceiros do negócio.\", \"Cumprir a legislação e políticas da Empresa, bem como os padrões e procedimentos de saúde, segurança e meio ambiente, zelar pelas condições de higiene e organização no ambiente de trabalho.\", \"Coordenar e direcionar as atividades da equipe, orientando os responsáveis dos setores e processos, apoiando e buscando os meios para garantir o alcance de resultados.\", \"Assegurar o cumprimento da legislação, bem como as normas e políticas institucionais da Empresa, assim como o cumprimento dos padrões estabelecidos, e zelando pelo patrimônio da Empresa.\", \"Responder pelo orçamento anual da unidade, realizando revisões mensais.\", \"Coordenar as atividades relacionadas a área de Custos e FP&A, através da análise de custos, projeção de resultados, custeio na formação de orçamentos, inventário físico e contábil-fiscal.\", \"Buscar e aplicar melhorias nos processos, produtos ou serviços sob sua responsabilidade, visando garantir resultados efetivos e resguardando a segurança dos ativos da Empresa.\", \"Prestar suporte a área de negócios e operativas no que refere as operações financeiras.\", \"Zelar pela exatidão dos caixas contábeis diários dos setores e da Empresa, coordenando a conferência de documentos e lançamentos, detectando possíveis retenções de numerários em caixa.\", \"Responder pelo controle do investimento da empresa.\", \"Garantir o desenvolvimento e aplicação de novos projetos e processos, a fim de assegurar sua devida implantação.\", \"Responder pelo fechamento e realizar o reporte financeiro da unidade.\", \"Elaborar relatórios e indicadores dos setores sob sua responsabilidade, acompanhando e analisando resultados, a fim de garantir o cumprimento de procedimentos, metas, e ações corretivas necessárias.\", \"Participar da elaboração e acompanhar o plano orçamentário da área, mantendo as despesas de acordo com os valores dimensionados, acompanhando resultados e buscando alternativas de eficiência.\", \"Responder pelo controle do orçamento x realizado para área comercial e operações.\", \"Aplicar políticas e práticas de gestão de pessoas, assegurando o desenvolvimento da equipe com foco em resultados, garantindo a conduta de respeito às pessoas e a manutenção do clima organizacional.\"]', 'attribute': None}\n",
            "{'enterprise': 4, 'cbo': None, 'name': 'Analista de Custos Pleno', 'summarydescription': 'Realizar a elaboração e acompanhamento de orçamentos, analisando e controlando estoques e administrar inventários variáveis ou fixos. Analisar e realizar o controle de custos, elaborando projetos de eliminação de perdas com programas de redução de gastos.', 'description': '[\"Acompanhar e disponibilizar informações relativas a custos, estoques, e outras despesas, efetuando levantamentos, apurações e análises necessárias, visando atender as áreas solicitantes sobre assuntos pertinentes.\", \"Aplicar conhecimento técnico e operacional nas ações e atividades a serem desenvolvidas no setor, visando à análise de processos, a fim de aperfeiçoar os esforços para o alcance de resultados.\", \"Analisar os relatórios de Custos, apurando os resultados, visando repassar as informações para a Gerência imediata.\", \"Controlar as informações inerentes a custos para elaboração do BUDGET e ou FORECAST, visando atender a necessidade de planejamento da empresa.\", \"Analisar a margem bruta e margem de contribuição, verificando os principais impactos e repassar a análise para os solicitantes, visando um controle melhor dos resultados da empresa.\", \"Efetuar o fechamento mensal da contabilidade de custo, utilizando procedimentos estabelecidos no SAP.\", \"Efetuar análises diversas, tais como: custo de matéria-prima, gastos diversos de fabricação, movimentação de estoque, entre outros através de relatórios gerados no SAP, visando o controle de gastos da empresa.\", \"Controlar os relatórios de despesas através do SAP e encaminhar para os respectivos responsáveis de cada setor para melhor acompanhamento de suas despesas.\", \"Executar a implantação de planos de trabalho e procedimentos do setor, analisando e efetivando a realização das ações e atividades relacionadas, visando o alcance de objetivos e metas estabelecidas.\", \"Assegurar o cumprimento da legislação, bem como as normas e políticas institucionais da Empresa, assim como o cumprimento dos padrões estabelecidos, e zelando pelo patrimônio da Empresa.\", \"Controlar e acompanhar o plano orçamentário do setor, mantendo as despesas de acordo com os valores dimensionados, acompanhando resultados e buscando alternativas de eficiência econômica.\", \"Prestar suporte técnico ao gestor da área em assuntos relacionados ao setor e atividades de sua responsabilidade, seguindo determinações de seu responsável imediato.\", \"Cumprir a legislação e políticas da Empresa, bem como os padrões e procedimentos de saúde, segurança e meio ambiente, zelar pelas condições de higiene e organização no ambiente de trabalho.\", \"Elaborar e executar a atualização de relatórios e indicadores do setor, acompanhando e analisando resultados, a fim de garantir o cumprimento de procedimentos, metas, e ações corretivas necessárias.\", \"Atuar no desenvolvimento e aplicação de novos projetos e processos, assegurando sua devida implantação.\", \"Realizar a elaboração e acompanhamento de orçamentos, analisando e controlando estoques e administrar inventários variáveis ou fixos. Analisar e realizar o controle de custos, elaborando projetos de eliminação de perdas com programas de redução de gastos.\", \"Aplicar melhorias nos processos, produtos ou serviços sob sua responsabilidade, visando garantir resultados efetivos e resguardando a segurança dos ativos da Empresa.\", \"Manter e cumprir as políticas institucionais junto aos fornecedores e órgãos externos, assegurando o devido comportamento ético no relacionamento com parceiros do negócio.\", \"Prestar suporte na elaboração do inventário físico de materiais, auditando, apurando e analisando diferenças encontradas entre as contagens e saldos contábeis, bem como efetuar os ajustes necessários, visando a apuração real dos saldos de estoques.\"]', 'attribute': None}\n",
            "{'enterprise': 4, 'cbo': None, 'name': 'Analista de Planejamento Financeiro Júnior', 'summarydescription': 'Elaborar relatórios gerenciais para acompanhamento de desempenho de áreas de negócio, dando suporte as áreas não-financeiras, orçamento, forecast e análises de cenário para dar suporte a tomada de decisão. Realizar análises de viabilidade financeira de projetos, auxiliando no fechamento contábil e análise de demonstrações contábeis.', 'description': '[\"Realizar a consolidação e reporte dos resultados mensais da Empresa.\", \"Aplicar conhecimento técnico e operacional nas ações e atividades a serem desenvolvidas no setor, visando à análise de processos, a fim de aperfeiçoar os esforços para o alcance de resultados.\", \"Elaborar e preparar reportes, lançando dados de ajuste orçamento x realizado no CRS.\", \"Efetuar lançamento de dados no Sistema SAP, visando mantê-lo atualizado.\", \"Realizar o monitoramento de vendas, custos e despesas.\", \"Elaborar o orçamento anual Budget e Forecast em conjunto com as demais áreas, de acordo com as premissas definidas com a Diretoria.\", \"Executar a implantação de planos de trabalho e procedimentos do setor, analisando e efetivando a realização das ações e atividades relacionadas, visando o alcance de objetivos e metas estabelecidas.\", \"Assegurar o cumprimento da legislação, bem como as normas e políticas institucionais da Empresa, assim como o cumprimento dos padrões estabelecidos, e zelando pelo patrimônio da Empresa.\", \"Prestar suporte na atualização do plano orçamentário do setor, verificando a conformidade das despesas de acordo com os valores dimensionados.\", \"Controlar e acompanhar o plano orçamentário do setor, mantendo as despesas de acordo com os valores dimensionados, acompanhando resultados e buscando alternativas de eficiência econômica.\", \"Prestar suporte técnico ao gestor da área em assuntos relacionados ao setor e atividades de sua responsabilidade, seguindo determinações de seu responsável imediato.\", \"Cumprir a legislação e políticas da Empresa, bem como os padrões e procedimentos de saúde, segurança e meio ambiente, zelar pelas condições de higiene e organização no ambiente de trabalho.\", \"Auxiliar no controle das informações dos valores de venda e pedidos através do SAP, de acordo com os critérios estabelecidas.\", \"Elaborar e executar a atualização de relatórios e indicadores do setor, acompanhando e analisando resultados, a fim de garantir o cumprimento de procedimentos, metas, e ações corretivas necessárias.\", \"Atuar no desenvolvimento e aplicação de novos projetos e processos, assegurando sua devida implantação.\", \"Aplicar melhorias nos processos, produtos ou serviços sob sua responsabilidade, visando garantir resultados efetivos e resguardando a segurança dos ativos da Empresa.\", \"Manter e cumprir as políticas institucionais junto aos fornecedores e órgãos externos, assegurando o devido comportamento ético no relacionamento com parceiros do negócio.\", \"Elaborar relatórios gerenciais para acompanhamento de desempenho de áreas de negócio, dando suporte as áreas não-financeiras, orçamento, forecast e análises de cenário para dar suporte a tomada de decisão. Realizar análises de viabilidade financeira de projetos, auxiliando no fechamento contábil e análise de demonstrações contábeis.\", \"Elaborar informações gerenciais e contábeis, seguindo as regras de conversões e normas contábeis através do registro e acompanhamento dos números, buscando as informações nos diversos sistemas SAP, CRS, BPC e balanços locais.\"]', 'attribute': None}\n"
          ],
          "name": "stdout"
        }
      ]
    },
    {
      "cell_type": "markdown",
      "metadata": {
        "id": "Ng2nJjnvysmj",
        "colab_type": "text"
      },
      "source": [
        "### Limpeza dos dados\n",
        "\n",
        "Removendo cargos sem descrições"
      ]
    },
    {
      "cell_type": "code",
      "metadata": {
        "id": "Fl9mXVyGyrgN",
        "colab_type": "code",
        "outputId": "219ef48b-9b41-454e-b67d-0a67528a9329",
        "colab": {
          "base_uri": "https://localhost:8080/",
          "height": 51
        }
      },
      "source": [
        "cargosLimpos = []\n",
        "for i in range(len(cargos)):\n",
        "  cargo = cargos[i]\n",
        "  if cargo['summarydescription'] is not None and cargo['summarydescription'].strip() != '':\n",
        "    cargosLimpos.append(cargo)\n",
        "\n",
        "print(len(cargosLimpos))\n",
        "print(len(cargos))"
      ],
      "execution_count": 0,
      "outputs": [
        {
          "output_type": "stream",
          "text": [
            "5584\n",
            "5616\n"
          ],
          "name": "stdout"
        }
      ]
    },
    {
      "cell_type": "markdown",
      "metadata": {
        "id": "C3ksk2rcsivy",
        "colab_type": "text"
      },
      "source": [
        "### Agrupamento dos textos. \n",
        "Concatenada a descrição sumária, e adescrição detalhada"
      ]
    },
    {
      "cell_type": "code",
      "metadata": {
        "id": "XPECBDJ71Ex5",
        "colab_type": "code",
        "colab": {}
      },
      "source": [
        "listaCargos = []\n",
        "for i in range(len(cargosLimpos)):\n",
        "  cargo = cargosLimpos[i]\n",
        "  textoCargo = ''\n",
        "  if cargo['summarydescription'] is not None:\n",
        "   textoCargo = cargo['summarydescription'].lower()\n",
        "  if cargo['description'] is not None:\n",
        "   description = json.loads(cargo['description'])\n",
        "   textoCargo += \" \".join(description)\n",
        " \n",
        "  listaCargos.append(textoCargo)"
      ],
      "execution_count": 0,
      "outputs": []
    },
    {
      "cell_type": "markdown",
      "metadata": {
        "id": "0l5VSvoAGPM7",
        "colab_type": "text"
      },
      "source": [
        "\n",
        "Visualização dos dados após o agrupamento dos textos."
      ]
    },
    {
      "cell_type": "code",
      "metadata": {
        "id": "GrduqOxrCoz2",
        "colab_type": "code",
        "outputId": "15ed55c0-731a-42e4-8171-5499ca3df9c8",
        "colab": {
          "base_uri": "https://localhost:8080/",
          "height": 190
        }
      },
      "source": [
        "\n",
        "print(*listaCargos[:9], sep='\\n')"
      ],
      "execution_count": 0,
      "outputs": [
        {
          "output_type": "stream",
          "text": [
            "gerenciar a área de marketing.Realizar ,2 Realizar ! 1\n",
            "gerenciar, planejar, controlar o processo de recrutamento e seleção de pessoal, ocorra de acordo com os perfis indicados pelas áreas, a implementação, manutenção e cumprimento dos planos e políticas de remuneração, benefícios, relações trabalhistas, carreira e sucessão e acompanhamento de pessoal.\n",
            "analisar, controlar e acompanhar a execução das atividades de administração de pessoal, folha de pagamento, processos de admissão, férias e rescisão e na elaboração de relatórios diversos.Atuar no desenvolvimento e aplicação de novos projetos e processos, assegurando sua devida implantação. Cumprir a legislação e políticas da Empresa, bem como os padrões e procedimentos de saúde, segurança e meio ambiente, zelar pelas condições de higiene e organização no ambiente de trabalho. Analisar, aplicar, controlar e acompanhar as atividades e recursos inerentes a área de Recursos Humanos da Empresa. Acompanhar o processo de auditoria interna nos procedimentos de SOX. Assegurar o cumprimento da legislação, bem como as normas e políticas institucionais da Empresa, assim como o cumprimento dos padrões estabelecidos, e zelando pelo patrimônio da Empresa. Executar a implantação de planos de trabalho e procedimentos do setor, analisando e efetivando a realização das ações e atividades relacionadas, visando o alcance de objetivos e metas estabelecidas. Controlar a gestão do processo de contrato de temporários e estagiários junto a empresa responsável, mantendo os gerentes informados do início e término dos contratos bem como as responsabilidades das partes. Aplicar melhorias nos processos, produtos ou serviços sob sua responsabilidade, visando garantir resultados efetivos e resguardando a segurança dos ativos da Empresa. Controlar e acompanhar a execução das atividades de administração de pessoal, folha de pagamento, processos de admissão, férias e rescisão e na elaboração de relatórios diversos. Manter e cumprir as políticas institucionais junto aos fornecedores e órgãos externos, assegurando o devido comportamento ético no relacionamento com parceiros do negócio. Prestar suporte técnico ao gestor da área em assuntos relacionados ao setor e atividades de sua responsabilidade, seguindo determinações de seu responsável imediato. Controlar e acompanhar o cumprimento da legislação trabalhista e previdenciária, através da leitura e interpretação de textos legais, submetendo ao coordenador de Recursos Humanos as propostas de implementação das alterações. Elaborar e executar a atualização de relatórios e indicadores do setor, acompanhando e analisando resultados, a fim de garantir o cumprimento de procedimentos, metas, e ações corretivas necessárias. Aplicar conhecimento técnico e operacional nas ações e atividades a serem desenvolvidas no setor, visando à análise de processos, a fim de aperfeiçoar os esforços para o alcance de resultados. Controlar e acompanhar a manutenção do Plano de Benefícios oferecidos pelas empresas, mediante a avaliação dos serviços prestados, levantamento das necessidades e solicitações dos empregados e pesquisa quanto às práticas do mercado.\n",
            "analisar, controlar e acompanhar as atividades da área fiscal e tributário, visando o cumprimento da legislação aplicável a cada operação, bem como as atividades contábeis, como apuração de impostos e o fechamento contábil, conciliação de contas, análise de transferências e movimentações, registro fiscais, demonstrativos contábeis/financeiros, balanços, visando o atendimento aos órgãos governamentais.Cumprir a legislação e políticas da Empresa, bem como os padrões e procedimentos de saúde, segurança e meio ambiente, zelar pelas condições de higiene e organização no ambiente de trabalho. Classificar e conferir documentos fiscais/tributários, preparando para análise, criando relatórios estatísticos sobre o desenvolvimento da área contábil. Elaborar e executar a atualização de relatórios e indicadores do setor, acompanhando e analisando resultados, a fim de garantir o cumprimento de procedimentos, metas, e ações corretivas necessárias. Atuar no desenvolvimento e aplicação de novos projetos e processos, assegurando sua devida implantação. Apoiar no cumprimento legal do registro dos livros contábeis e fiscais da Empresa. Controlar e atualizar o sistema de gerenciamento de gasto de capital e controle patrimonial, para controle e contabilização dos bens da Empresa. Executar a implantação de planos de trabalho e procedimentos do setor, analisando e efetivando a realização das ações e atividades relacionadas, visando o alcance de objetivos e metas estabelecidas. Controlar e acompanhar os Regimes Especiais tributários e fiscais, seus protocolos e pedidos de renovação e extensão a outros estabelecimentos quando necessários e aplicáveis. Realizar a apuração de impostos e o fechamento contábil, através da classificação de documentos contábeis, conciliação de contas, análise de transferências e movimentações e a realização de registros fiscais. Analisar e controlar para que o sistema operacional da empresa esteja atualizado e com a legislação aplicável a cada operação e de cada estabelecimento, inclusive daqueles localizados em outros Estados da Federação. (Tabela JBTAX). Assegurar o cumprimento da legislação, bem como as normas e políticas institucionais da Empresa, assim como o cumprimento dos padrões estabelecidos, e zelando pelo patrimônio da Empresa. Elaborar demonstrativos contábeis/financeiros, mediante a preparação e análise de balancetes, balanços, Declaração de Imposto de Renda, informações cadastrais e contábeis, para atendimento aos órgãos governamentais e acionistas. Aplicar conhecimento técnico e operacional nas ações e atividades a serem desenvolvidas no setor, visando à análise de processos, a fim de aperfeiçoar os esforços para o alcance de resultados. Aplicar melhorias nos processos, produtos ou serviços sob sua responsabilidade, visando garantir resultados efetivos e resguardando a segurança dos ativos da Empresa. Prestar suporte técnico ao gestor da área em assuntos relacionados ao setor e atividades de sua responsabilidade, seguindo determinações de seu responsável imediato. Manter e cumprir as políticas institucionais junto aos fornecedores e órgãos externos, assegurando o devido comportamento ético no relacionamento com parceiros do negócio. Realizar o atendimento a auditoria interna e externa para fiscalização. Controlar e acompanhar o atendimento das obrigações acessórias. Realizar a preparação e emissão de demonstrações financeiras para instituições financeiras, fornecedores e clientes, para realização de cadastros. Controlar o preenchimento da ECF (Declaração ao fisco do IRPJ e CSLL) e a escrituração do e-LALUR e e-LACS pela Contabilidade. Controlar conceitualmente as apurações de IRPJ, PIS e COFINS preparadas pela Contabilidade. Controlar e acompanhar a manutenção da Tabela JBTAX. Realizar o acompanhamento da legislação tributária municipal, estadual e federal, atentando para as implicações nas operações da empresa. Realizar a conciliação de contas contábeis diversas.\n",
            "coordenar e acompanhar as atividades da área contábil e tributário, subsidiando as áreas da empresa no planejamento legal de tributos, visando a transferência ou redução de carga tributária, bem como a contabilização dos documentos, conciliação de contas, análise das demonstrações financeiras e a apuração de impostos e emissão de documentos legais.Garantir o desenvolvimento e aplicação de novos projetos e processos, a fim de assegurar sua devida implantação. Coordenar e acompanhar as atividades da área fiscal e fiscal, repassando os relatórios e indicadores ao gestor imediato e demais áreas da Empresa no planejamento legal de tributos, visando a transferência ou redução da carga tributária. Prestar informações sobre Imposto de Renda, para colaboradores e prestadores de serviços. Revisar e aprovar as obrigações acessórias que são entregues ao governo. (Declaração de imposto de renda, informativos de recolhimento de impostos, etc.) Assegurar o cumprimento da legislação, bem como as normas e políticas institucionais da Empresa, assim como o cumprimento dos padrões estabelecidos, e zelando pelo patrimônio da Empresa. Analisar e orientar as demais áreas da Empresa quanto aos aspectos legais e fiscais exigidos em editais de licitações, prestando informações e esclarecendo dúvidas que se façam necessárias. Elaborar relatórios e indicadores dos setores sob sua responsabilidade, acompanhando e analisando resultados, a fim de garantir o cumprimento de procedimentos, metas, e ações corretivas necessárias. Controlar e acompanhar as datas de recolhimentos de todos os tributos e contribuições de obrigação da Empresa. Coordenar e orientar a equipe quanto a atualização do Controle Patrimonial Contábil da Empresa, realizando a análise dos relatórios elaborados, para subsidiar a Diretoria em suas decisões. Cumprir a legislação e políticas da Empresa, bem como os padrões e procedimentos de saúde, segurança e meio ambiente, zelar pelas condições de higiene e organização no ambiente de trabalho. Coordenar as atividades de contabilização dos documentos, conciliação de contas, análise das demonstrações financeiras, bem como a apuração de impostos e emissão de documentos legais. Garantir a adequação dos lançamentos em Livros Fiscais e providenciar seu registro, objetivando o atendimento às exigências legais. Manter e cumprir as políticas institucionais junto aos fornecedores e órgãos externos, assegurando o devido comportamento ético no relacionamento com parceiros do negócio. Realizar as atividades de conciliação bancária. Participar da elaboração e acompanhar o plano orçamentário da área, mantendo as despesas de acordo com os valores dimensionados, acompanhando resultados e buscando alternativas de eficiência. Aplicar políticas e práticas de gestão de pessoas, assegurando o desenvolvimento da equipe com foco em resultados, garantindo a conduta de respeito às pessoas e a manutenção do clima organizacional. Buscar e aplicar melhorias nos processos, produtos ou serviços sob sua responsabilidade, visando garantir resultados efetivos e resguardando a segurança dos ativos da Empresa. Controlar e acompanhar a renovação de alvarás e certidões negativas de débitos, para atender às necessidades legais. Orientar e prestar informações, no âmbito fiscal e tributário, às diversas áreas que interagem com a Contabilidade. Controlar e acompanhar os processos fiscais e tributários em andamento junto aos órgãos oficiais e instituições governamentais. Coordenar e direcionar as atividades da equipe, orientando os responsáveis dos setores e processos, apoiando e buscando os meios para garantir o alcance de resultados. Efetuar controle orçamentário anual, acompanhando mensalmente as previsões, controlando os custos para adequar as previsões e diminuições de custos operacionais. Alterar e atualizar o Plano de Contas da Empresa. Controlar e preparar as demonstrações financeiras.\n",
            "coordenar as atividades relacionadas a área de custos e fp&a, através da análise de custos, projeção de resultados, custeio na formação de orçamentos, inventário físico e contábil-fiscal.Manter e cumprir as políticas institucionais junto aos fornecedores e órgãos externos, assegurando o devido comportamento ético no relacionamento com parceiros do negócio. Cumprir a legislação e políticas da Empresa, bem como os padrões e procedimentos de saúde, segurança e meio ambiente, zelar pelas condições de higiene e organização no ambiente de trabalho. Coordenar e direcionar as atividades da equipe, orientando os responsáveis dos setores e processos, apoiando e buscando os meios para garantir o alcance de resultados. Assegurar o cumprimento da legislação, bem como as normas e políticas institucionais da Empresa, assim como o cumprimento dos padrões estabelecidos, e zelando pelo patrimônio da Empresa. Responder pelo orçamento anual da unidade, realizando revisões mensais. Coordenar as atividades relacionadas a área de Custos e FP&A, através da análise de custos, projeção de resultados, custeio na formação de orçamentos, inventário físico e contábil-fiscal. Buscar e aplicar melhorias nos processos, produtos ou serviços sob sua responsabilidade, visando garantir resultados efetivos e resguardando a segurança dos ativos da Empresa. Prestar suporte a área de negócios e operativas no que refere as operações financeiras. Zelar pela exatidão dos caixas contábeis diários dos setores e da Empresa, coordenando a conferência de documentos e lançamentos, detectando possíveis retenções de numerários em caixa. Responder pelo controle do investimento da empresa. Garantir o desenvolvimento e aplicação de novos projetos e processos, a fim de assegurar sua devida implantação. Responder pelo fechamento e realizar o reporte financeiro da unidade. Elaborar relatórios e indicadores dos setores sob sua responsabilidade, acompanhando e analisando resultados, a fim de garantir o cumprimento de procedimentos, metas, e ações corretivas necessárias. Participar da elaboração e acompanhar o plano orçamentário da área, mantendo as despesas de acordo com os valores dimensionados, acompanhando resultados e buscando alternativas de eficiência. Responder pelo controle do orçamento x realizado para área comercial e operações. Aplicar políticas e práticas de gestão de pessoas, assegurando o desenvolvimento da equipe com foco em resultados, garantindo a conduta de respeito às pessoas e a manutenção do clima organizacional.\n",
            "realizar a elaboração e acompanhamento de orçamentos, analisando e controlando estoques e administrar inventários variáveis ou fixos. analisar e realizar o controle de custos, elaborando projetos de eliminação de perdas com programas de redução de gastos.Acompanhar e disponibilizar informações relativas a custos, estoques, e outras despesas, efetuando levantamentos, apurações e análises necessárias, visando atender as áreas solicitantes sobre assuntos pertinentes. Aplicar conhecimento técnico e operacional nas ações e atividades a serem desenvolvidas no setor, visando à análise de processos, a fim de aperfeiçoar os esforços para o alcance de resultados. Analisar os relatórios de Custos, apurando os resultados, visando repassar as informações para a Gerência imediata. Controlar as informações inerentes a custos para elaboração do BUDGET e ou FORECAST, visando atender a necessidade de planejamento da empresa. Analisar a margem bruta e margem de contribuição, verificando os principais impactos e repassar a análise para os solicitantes, visando um controle melhor dos resultados da empresa. Efetuar o fechamento mensal da contabilidade de custo, utilizando procedimentos estabelecidos no SAP. Efetuar análises diversas, tais como: custo de matéria-prima, gastos diversos de fabricação, movimentação de estoque, entre outros através de relatórios gerados no SAP, visando o controle de gastos da empresa. Controlar os relatórios de despesas através do SAP e encaminhar para os respectivos responsáveis de cada setor para melhor acompanhamento de suas despesas. Executar a implantação de planos de trabalho e procedimentos do setor, analisando e efetivando a realização das ações e atividades relacionadas, visando o alcance de objetivos e metas estabelecidas. Assegurar o cumprimento da legislação, bem como as normas e políticas institucionais da Empresa, assim como o cumprimento dos padrões estabelecidos, e zelando pelo patrimônio da Empresa. Controlar e acompanhar o plano orçamentário do setor, mantendo as despesas de acordo com os valores dimensionados, acompanhando resultados e buscando alternativas de eficiência econômica. Prestar suporte técnico ao gestor da área em assuntos relacionados ao setor e atividades de sua responsabilidade, seguindo determinações de seu responsável imediato. Cumprir a legislação e políticas da Empresa, bem como os padrões e procedimentos de saúde, segurança e meio ambiente, zelar pelas condições de higiene e organização no ambiente de trabalho. Elaborar e executar a atualização de relatórios e indicadores do setor, acompanhando e analisando resultados, a fim de garantir o cumprimento de procedimentos, metas, e ações corretivas necessárias. Atuar no desenvolvimento e aplicação de novos projetos e processos, assegurando sua devida implantação. Realizar a elaboração e acompanhamento de orçamentos, analisando e controlando estoques e administrar inventários variáveis ou fixos. Analisar e realizar o controle de custos, elaborando projetos de eliminação de perdas com programas de redução de gastos. Aplicar melhorias nos processos, produtos ou serviços sob sua responsabilidade, visando garantir resultados efetivos e resguardando a segurança dos ativos da Empresa. Manter e cumprir as políticas institucionais junto aos fornecedores e órgãos externos, assegurando o devido comportamento ético no relacionamento com parceiros do negócio. Prestar suporte na elaboração do inventário físico de materiais, auditando, apurando e analisando diferenças encontradas entre as contagens e saldos contábeis, bem como efetuar os ajustes necessários, visando a apuração real dos saldos de estoques.\n",
            "elaborar relatórios gerenciais para acompanhamento de desempenho de áreas de negócio, dando suporte as áreas não-financeiras, orçamento, forecast e análises de cenário para dar suporte a tomada de decisão. realizar análises de viabilidade financeira de projetos, auxiliando no fechamento contábil e análise de demonstrações contábeis.Realizar a consolidação e reporte dos resultados mensais da Empresa. Aplicar conhecimento técnico e operacional nas ações e atividades a serem desenvolvidas no setor, visando à análise de processos, a fim de aperfeiçoar os esforços para o alcance de resultados. Elaborar e preparar reportes, lançando dados de ajuste orçamento x realizado no CRS. Efetuar lançamento de dados no Sistema SAP, visando mantê-lo atualizado. Realizar o monitoramento de vendas, custos e despesas. Elaborar o orçamento anual Budget e Forecast em conjunto com as demais áreas, de acordo com as premissas definidas com a Diretoria. Executar a implantação de planos de trabalho e procedimentos do setor, analisando e efetivando a realização das ações e atividades relacionadas, visando o alcance de objetivos e metas estabelecidas. Assegurar o cumprimento da legislação, bem como as normas e políticas institucionais da Empresa, assim como o cumprimento dos padrões estabelecidos, e zelando pelo patrimônio da Empresa. Prestar suporte na atualização do plano orçamentário do setor, verificando a conformidade das despesas de acordo com os valores dimensionados. Controlar e acompanhar o plano orçamentário do setor, mantendo as despesas de acordo com os valores dimensionados, acompanhando resultados e buscando alternativas de eficiência econômica. Prestar suporte técnico ao gestor da área em assuntos relacionados ao setor e atividades de sua responsabilidade, seguindo determinações de seu responsável imediato. Cumprir a legislação e políticas da Empresa, bem como os padrões e procedimentos de saúde, segurança e meio ambiente, zelar pelas condições de higiene e organização no ambiente de trabalho. Auxiliar no controle das informações dos valores de venda e pedidos através do SAP, de acordo com os critérios estabelecidas. Elaborar e executar a atualização de relatórios e indicadores do setor, acompanhando e analisando resultados, a fim de garantir o cumprimento de procedimentos, metas, e ações corretivas necessárias. Atuar no desenvolvimento e aplicação de novos projetos e processos, assegurando sua devida implantação. Aplicar melhorias nos processos, produtos ou serviços sob sua responsabilidade, visando garantir resultados efetivos e resguardando a segurança dos ativos da Empresa. Manter e cumprir as políticas institucionais junto aos fornecedores e órgãos externos, assegurando o devido comportamento ético no relacionamento com parceiros do negócio. Elaborar relatórios gerenciais para acompanhamento de desempenho de áreas de negócio, dando suporte as áreas não-financeiras, orçamento, forecast e análises de cenário para dar suporte a tomada de decisão. Realizar análises de viabilidade financeira de projetos, auxiliando no fechamento contábil e análise de demonstrações contábeis. Elaborar informações gerenciais e contábeis, seguindo as regras de conversões e normas contábeis através do registro e acompanhamento dos números, buscando as informações nos diversos sistemas SAP, CRS, BPC e balanços locais.\n",
            "coordenar, planejar, controlar e acompanhar os processos de movimento das transações financeiras das empresas e a liquidez e rentabilidade das operações financeiras, de acordo com as políticas adotadas pela mesma.Cumprir a legislação e políticas da Empresa, bem como os padrões e procedimentos de saúde, segurança e meio ambiente, zelar pelas condições de higiene e organização no ambiente de trabalho. Controlar e acompanhar os pagamentos e recebimentos de clientes no exterior, através de negociação e acompanhamento das transações cambiais, visando garantir as melhores taxas nas negociações de moeda estrangeira e consequente efetivação das operações internacionais da empresa. Garantir o desenvolvimento e aplicação de novos projetos e processos, a fim de assegurar sua devida implantação. Acompanhar os resultados apurados em aplicações financeiras da empresa, observando o cumprimento de acordos de taxas e condições de investimentos contratados junto às instituições financeiras. Participar da elaboração e acompanhar o plano orçamentário da área, mantendo as despesas de acordo com os valores dimensionados, acompanhando resultados e buscando alternativas de eficiência. Aplicar políticas e práticas de gestão de pessoas, assegurando o desenvolvimento da equipe com foco em resultados, garantindo a conduta de respeito às pessoas e a manutenção do clima organizacional. Assegurar o cumprimento da legislação, bem como as normas e políticas institucionais da Empresa, assim como o cumprimento dos padrões estabelecidos, e zelando pelo patrimônio da Empresa. Coordenar as condições de reciprocidade oferecidas pela rede bancária credenciada, nos processos de cobrança. Manter e cumprir as políticas institucionais junto aos fornecedores e órgãos externos, assegurando o devido comportamento ético no relacionamento com parceiros do negócio. Coordenar e direcionar as atividades da equipe, orientando os responsáveis dos setores e processos, apoiando e buscando os meios para garantir o alcance de resultados. Buscar e aplicar melhorias nos processos, produtos ou serviços sob sua responsabilidade, visando garantir resultados efetivos e resguardando a segurança dos ativos da Empresa. Acompanhar as negociações para acertos de débitos de clientes, orientando sobre as condições mais favoráveis para as partes. Coordenar o fluxo de caixa da empresa, compatibilizando os créditos e pagamentos programados com as operações realizadas, para provisionar recursos da empresa para liquidação de compromissos. Coordenar, planejar, controlar e acompanhar os processos de movimento das transações financeiras das Empresas e a liquidez e rentabilidade das operações financeiras, de acordo com as políticas adotadas pela mesma. Elaborar relatórios e indicadores dos setores sob sua responsabilidade, acompanhando e analisando resultados, a fim de garantir o cumprimento de procedimentos, metas, e ações corretivas necessárias.\n"
          ],
          "name": "stdout"
        }
      ]
    },
    {
      "cell_type": "markdown",
      "metadata": {
        "id": "4vgdcvPC8AlM",
        "colab_type": "text"
      },
      "source": [
        "### Remoção de dados\n",
        "Remoção de Stop words "
      ]
    },
    {
      "cell_type": "code",
      "metadata": {
        "id": "OAB1RJNs8G9j",
        "colab_type": "code",
        "colab": {}
      },
      "source": [
        "stop_words = stopwords.words('portuguese')\n",
        "\n",
        "listaCargosSemStopWords = []\n",
        "for i in range(len(listaCargos)):\n",
        "   palavras = word_tokenize(listaCargos[i])\n",
        "   valor = \"\"\n",
        "   for palavra in palavras:\n",
        "      if palavra not in stop_words:\n",
        "        valor += palavra\n",
        "      valor += \" \" \n",
        "   listaCargosSemStopWords.append(nlp(valor))"
      ],
      "execution_count": 0,
      "outputs": []
    },
    {
      "cell_type": "code",
      "metadata": {
        "id": "lUiP4mvRuZkN",
        "colab_type": "code",
        "outputId": "053931de-7d10-4d6e-8b5c-cfc4cfe014ab",
        "colab": {
          "base_uri": "https://localhost:8080/",
          "height": 377
        }
      },
      "source": [
        "print(*listaCargosSemStopWords[:20], sep='\\n')"
      ],
      "execution_count": 0,
      "outputs": [
        {
          "output_type": "stream",
          "text": [
            "gerenciar  área  marketing.Realizar ,2 Realizar ! 1 \n",
            "gerenciar , planejar , controlar  processo  recrutamento  seleção  pessoal , ocorra  acordo   perfis indicados  áreas ,  implementação , manutenção  cumprimento  planos  políticas  remuneração , benefícios , relações trabalhistas , carreira  sucessão  acompanhamento  pessoal . \n",
            "analisar , controlar  acompanhar  execução  atividades  administração  pessoal , folha  pagamento , processos  admissão , férias  rescisão   elaboração  relatórios diversos.Atuar  desenvolvimento  aplicação  novos projetos  processos , assegurando  devida implantação . Cumprir  legislação  políticas  Empresa , bem   padrões  procedimentos  saúde , segurança  meio ambiente , zelar  condições  higiene  organização  ambiente  trabalho . Analisar , aplicar , controlar  acompanhar  atividades  recursos inerentes  área  Recursos Humanos  Empresa . Acompanhar  processo  auditoria interna  procedimentos  SOX . Assegurar  cumprimento  legislação , bem   normas  políticas institucionais  Empresa , assim   cumprimento  padrões estabelecidos ,  zelando  patrimônio  Empresa . Executar  implantação  planos  trabalho  procedimentos  setor , analisando  efetivando  realização  ações  atividades relacionadas , visando  alcance  objetivos  metas estabelecidas . Controlar  gestão  processo  contrato  temporários  estagiários junto  empresa responsável , mantendo  gerentes informados  início  término  contratos bem   responsabilidades  partes . Aplicar melhorias  processos , produtos  serviços sob  responsabilidade , visando garantir resultados efetivos  resguardando  segurança  ativos  Empresa . Controlar  acompanhar  execução  atividades  administração  pessoal , folha  pagamento , processos  admissão , férias  rescisão   elaboração  relatórios diversos . Manter  cumprir  políticas institucionais junto  fornecedores  órgãos externos , assegurando  devido comportamento ético  relacionamento  parceiros  negócio . Prestar suporte técnico  gestor  área  assuntos relacionados  setor  atividades   responsabilidade , seguindo determinações   responsável imediato . Controlar  acompanhar  cumprimento  legislação trabalhista  previdenciária , através  leitura  interpretação  textos legais , submetendo  coordenador  Recursos Humanos  propostas  implementação  alterações . Elaborar  executar  atualização  relatórios  indicadores  setor , acompanhando  analisando resultados ,  fim  garantir  cumprimento  procedimentos , metas ,  ações corretivas necessárias . Aplicar conhecimento técnico  operacional  ações  atividades  serem desenvolvidas  setor , visando  análise  processos ,  fim  aperfeiçoar  esforços   alcance  resultados . Controlar  acompanhar  manutenção  Plano  Benefícios oferecidos  empresas , mediante  avaliação  serviços prestados , levantamento  necessidades  solicitações  empregados  pesquisa quanto  práticas  mercado . \n",
            "analisar , controlar  acompanhar  atividades  área fiscal  tributário , visando  cumprimento  legislação aplicável  cada operação , bem   atividades contábeis ,  apuração  impostos   fechamento contábil , conciliação  contas , análise  transferências  movimentações , registro fiscais , demonstrativos contábeis/financeiros , balanços , visando  atendimento  órgãos governamentais.Cumprir  legislação  políticas  Empresa , bem   padrões  procedimentos  saúde , segurança  meio ambiente , zelar  condições  higiene  organização  ambiente  trabalho . Classificar  conferir documentos fiscais/tributários , preparando  análise , criando relatórios estatísticos sobre  desenvolvimento  área contábil . Elaborar  executar  atualização  relatórios  indicadores  setor , acompanhando  analisando resultados ,  fim  garantir  cumprimento  procedimentos , metas ,  ações corretivas necessárias . Atuar  desenvolvimento  aplicação  novos projetos  processos , assegurando  devida implantação . Apoiar  cumprimento legal  registro  livros contábeis  fiscais  Empresa . Controlar  atualizar  sistema  gerenciamento  gasto  capital  controle patrimonial ,  controle  contabilização  bens  Empresa . Executar  implantação  planos  trabalho  procedimentos  setor , analisando  efetivando  realização  ações  atividades relacionadas , visando  alcance  objetivos  metas estabelecidas . Controlar  acompanhar  Regimes Especiais tributários  fiscais ,  protocolos  pedidos  renovação  extensão  outros estabelecimentos  necessários  aplicáveis . Realizar  apuração  impostos   fechamento contábil , através  classificação  documentos contábeis , conciliação  contas , análise  transferências  movimentações   realização  registros fiscais . Analisar  controlar    sistema operacional  empresa  atualizado    legislação aplicável  cada operação   cada estabelecimento , inclusive daqueles localizados  outros Estados  Federação . ( Tabela JBTAX ) . Assegurar  cumprimento  legislação , bem   normas  políticas institucionais  Empresa , assim   cumprimento  padrões estabelecidos ,  zelando  patrimônio  Empresa . Elaborar demonstrativos contábeis/financeiros , mediante  preparação  análise  balancetes , balanços , Declaração  Imposto  Renda , informações cadastrais  contábeis ,  atendimento  órgãos governamentais  acionistas . Aplicar conhecimento técnico  operacional  ações  atividades  serem desenvolvidas  setor , visando  análise  processos ,  fim  aperfeiçoar  esforços   alcance  resultados . Aplicar melhorias  processos , produtos  serviços sob  responsabilidade , visando garantir resultados efetivos  resguardando  segurança  ativos  Empresa . Prestar suporte técnico  gestor  área  assuntos relacionados  setor  atividades   responsabilidade , seguindo determinações   responsável imediato . Manter  cumprir  políticas institucionais junto  fornecedores  órgãos externos , assegurando  devido comportamento ético  relacionamento  parceiros  negócio . Realizar  atendimento  auditoria interna  externa  fiscalização . Controlar  acompanhar  atendimento  obrigações acessórias . Realizar  preparação  emissão  demonstrações financeiras  instituições financeiras , fornecedores  clientes ,  realização  cadastros . Controlar  preenchimento  ECF ( Declaração  fisco  IRPJ  CSLL )   escrituração  e-LALUR  e-LACS  Contabilidade . Controlar conceitualmente  apurações  IRPJ , PIS  COFINS preparadas  Contabilidade . Controlar  acompanhar  manutenção  Tabela JBTAX . Realizar  acompanhamento  legislação tributária municipal , estadual  federal , atentando   implicações  operações  empresa . Realizar  conciliação  contas contábeis diversas . \n",
            "coordenar  acompanhar  atividades  área contábil  tributário , subsidiando  áreas  empresa  planejamento legal  tributos , visando  transferência  redução  carga tributária , bem   contabilização  documentos , conciliação  contas , análise  demonstrações financeiras   apuração  impostos  emissão  documentos legais.Garantir  desenvolvimento  aplicação  novos projetos  processos ,  fim  assegurar  devida implantação . Coordenar  acompanhar  atividades  área fiscal  fiscal , repassando  relatórios  indicadores  gestor imediato  demais áreas  Empresa  planejamento legal  tributos , visando  transferência  redução  carga tributária . Prestar informações sobre Imposto  Renda ,  colaboradores  prestadores  serviços . Revisar  aprovar  obrigações acessórias   entregues  governo . ( Declaração  imposto  renda , informativos  recolhimento  impostos , etc . ) Assegurar  cumprimento  legislação , bem   normas  políticas institucionais  Empresa , assim   cumprimento  padrões estabelecidos ,  zelando  patrimônio  Empresa . Analisar  orientar  demais áreas  Empresa quanto  aspectos legais  fiscais exigidos  editais  licitações , prestando informações  esclarecendo dúvidas   façam necessárias . Elaborar relatórios  indicadores  setores sob  responsabilidade , acompanhando  analisando resultados ,  fim  garantir  cumprimento  procedimentos , metas ,  ações corretivas necessárias . Controlar  acompanhar  datas  recolhimentos  todos  tributos  contribuições  obrigação  Empresa . Coordenar  orientar  equipe quanto  atualização  Controle Patrimonial Contábil  Empresa , realizando  análise  relatórios elaborados ,  subsidiar  Diretoria   decisões . Cumprir  legislação  políticas  Empresa , bem   padrões  procedimentos  saúde , segurança  meio ambiente , zelar  condições  higiene  organização  ambiente  trabalho . Coordenar  atividades  contabilização  documentos , conciliação  contas , análise  demonstrações financeiras , bem   apuração  impostos  emissão  documentos legais . Garantir  adequação  lançamentos  Livros Fiscais  providenciar  registro , objetivando  atendimento  exigências legais . Manter  cumprir  políticas institucionais junto  fornecedores  órgãos externos , assegurando  devido comportamento ético  relacionamento  parceiros  negócio . Realizar  atividades  conciliação bancária . Participar  elaboração  acompanhar  plano orçamentário  área , mantendo  despesas  acordo   valores dimensionados , acompanhando resultados  buscando alternativas  eficiência . Aplicar políticas  práticas  gestão  pessoas , assegurando  desenvolvimento  equipe  foco  resultados , garantindo  conduta  respeito  pessoas   manutenção  clima organizacional . Buscar  aplicar melhorias  processos , produtos  serviços sob  responsabilidade , visando garantir resultados efetivos  resguardando  segurança  ativos  Empresa . Controlar  acompanhar  renovação  alvarás  certidões negativas  débitos ,  atender  necessidades legais . Orientar  prestar informações ,  âmbito fiscal  tributário ,  diversas áreas  interagem   Contabilidade . Controlar  acompanhar  processos fiscais  tributários  andamento junto  órgãos oficiais  instituições governamentais . Coordenar  direcionar  atividades  equipe , orientando  responsáveis  setores  processos , apoiando  buscando  meios  garantir  alcance  resultados . Efetuar controle orçamentário anual , acompanhando mensalmente  previsões , controlando  custos  adequar  previsões  diminuições  custos operacionais . Alterar  atualizar  Plano  Contas  Empresa . Controlar  preparar  demonstrações financeiras . \n",
            "coordenar  atividades relacionadas  área  custos  fp &  , através  análise  custos , projeção  resultados , custeio  formação  orçamentos , inventário físico  contábil-fiscal.Manter  cumprir  políticas institucionais junto  fornecedores  órgãos externos , assegurando  devido comportamento ético  relacionamento  parceiros  negócio . Cumprir  legislação  políticas  Empresa , bem   padrões  procedimentos  saúde , segurança  meio ambiente , zelar  condições  higiene  organização  ambiente  trabalho . Coordenar  direcionar  atividades  equipe , orientando  responsáveis  setores  processos , apoiando  buscando  meios  garantir  alcance  resultados . Assegurar  cumprimento  legislação , bem   normas  políticas institucionais  Empresa , assim   cumprimento  padrões estabelecidos ,  zelando  patrimônio  Empresa . Responder  orçamento anual  unidade , realizando revisões mensais . Coordenar  atividades relacionadas  área  Custos  FP & A , através  análise  custos , projeção  resultados , custeio  formação  orçamentos , inventário físico  contábil-fiscal . Buscar  aplicar melhorias  processos , produtos  serviços sob  responsabilidade , visando garantir resultados efetivos  resguardando  segurança  ativos  Empresa . Prestar suporte  área  negócios  operativas   refere  operações financeiras . Zelar  exatidão  caixas contábeis diários  setores   Empresa , coordenando  conferência  documentos  lançamentos , detectando possíveis retenções  numerários  caixa . Responder  controle  investimento  empresa . Garantir  desenvolvimento  aplicação  novos projetos  processos ,  fim  assegurar  devida implantação . Responder  fechamento  realizar  reporte financeiro  unidade . Elaborar relatórios  indicadores  setores sob  responsabilidade , acompanhando  analisando resultados ,  fim  garantir  cumprimento  procedimentos , metas ,  ações corretivas necessárias . Participar  elaboração  acompanhar  plano orçamentário  área , mantendo  despesas  acordo   valores dimensionados , acompanhando resultados  buscando alternativas  eficiência . Responder  controle  orçamento x realizado  área comercial  operações . Aplicar políticas  práticas  gestão  pessoas , assegurando  desenvolvimento  equipe  foco  resultados , garantindo  conduta  respeito  pessoas   manutenção  clima organizacional . \n",
            "realizar  elaboração  acompanhamento  orçamentos , analisando  controlando estoques  administrar inventários variáveis  fixos . analisar  realizar  controle  custos , elaborando projetos  eliminação  perdas  programas  redução  gastos.Acompanhar  disponibilizar informações relativas  custos , estoques ,  outras despesas , efetuando levantamentos , apurações  análises necessárias , visando atender  áreas solicitantes sobre assuntos pertinentes . Aplicar conhecimento técnico  operacional  ações  atividades  serem desenvolvidas  setor , visando  análise  processos ,  fim  aperfeiçoar  esforços   alcance  resultados . Analisar  relatórios  Custos , apurando  resultados , visando repassar  informações   Gerência imediata . Controlar  informações inerentes  custos  elaboração  BUDGET   FORECAST , visando atender  necessidade  planejamento  empresa . Analisar  margem bruta  margem  contribuição , verificando  principais impactos  repassar  análise   solicitantes , visando  controle melhor  resultados  empresa . Efetuar  fechamento mensal  contabilidade  custo , utilizando procedimentos estabelecidos  SAP . Efetuar análises diversas , tais  : custo  matéria-prima , gastos diversos  fabricação , movimentação  estoque ,  outros através  relatórios gerados  SAP , visando  controle  gastos  empresa . Controlar  relatórios  despesas através  SAP  encaminhar   respectivos responsáveis  cada setor  melhor acompanhamento   despesas . Executar  implantação  planos  trabalho  procedimentos  setor , analisando  efetivando  realização  ações  atividades relacionadas , visando  alcance  objetivos  metas estabelecidas . Assegurar  cumprimento  legislação , bem   normas  políticas institucionais  Empresa , assim   cumprimento  padrões estabelecidos ,  zelando  patrimônio  Empresa . Controlar  acompanhar  plano orçamentário  setor , mantendo  despesas  acordo   valores dimensionados , acompanhando resultados  buscando alternativas  eficiência econômica . Prestar suporte técnico  gestor  área  assuntos relacionados  setor  atividades   responsabilidade , seguindo determinações   responsável imediato . Cumprir  legislação  políticas  Empresa , bem   padrões  procedimentos  saúde , segurança  meio ambiente , zelar  condições  higiene  organização  ambiente  trabalho . Elaborar  executar  atualização  relatórios  indicadores  setor , acompanhando  analisando resultados ,  fim  garantir  cumprimento  procedimentos , metas ,  ações corretivas necessárias . Atuar  desenvolvimento  aplicação  novos projetos  processos , assegurando  devida implantação . Realizar  elaboração  acompanhamento  orçamentos , analisando  controlando estoques  administrar inventários variáveis  fixos . Analisar  realizar  controle  custos , elaborando projetos  eliminação  perdas  programas  redução  gastos . Aplicar melhorias  processos , produtos  serviços sob  responsabilidade , visando garantir resultados efetivos  resguardando  segurança  ativos  Empresa . Manter  cumprir  políticas institucionais junto  fornecedores  órgãos externos , assegurando  devido comportamento ético  relacionamento  parceiros  negócio . Prestar suporte  elaboração  inventário físico  materiais , auditando , apurando  analisando diferenças encontradas   contagens  saldos contábeis , bem  efetuar  ajustes necessários , visando  apuração real  saldos  estoques . \n",
            "elaborar relatórios gerenciais  acompanhamento  desempenho  áreas  negócio , dando suporte  áreas não-financeiras , orçamento , forecast  análises  cenário  dar suporte  tomada  decisão . realizar análises  viabilidade financeira  projetos , auxiliando  fechamento contábil  análise  demonstrações contábeis.Realizar  consolidação  reporte  resultados mensais  Empresa . Aplicar conhecimento técnico  operacional  ações  atividades  serem desenvolvidas  setor , visando  análise  processos ,  fim  aperfeiçoar  esforços   alcance  resultados . Elaborar  preparar reportes , lançando dados  ajuste orçamento x realizado  CRS . Efetuar lançamento  dados  Sistema SAP , visando mantê-lo atualizado . Realizar  monitoramento  vendas , custos  despesas . Elaborar  orçamento anual Budget  Forecast  conjunto   demais áreas ,  acordo   premissas definidas   Diretoria . Executar  implantação  planos  trabalho  procedimentos  setor , analisando  efetivando  realização  ações  atividades relacionadas , visando  alcance  objetivos  metas estabelecidas . Assegurar  cumprimento  legislação , bem   normas  políticas institucionais  Empresa , assim   cumprimento  padrões estabelecidos ,  zelando  patrimônio  Empresa . Prestar suporte  atualização  plano orçamentário  setor , verificando  conformidade  despesas  acordo   valores dimensionados . Controlar  acompanhar  plano orçamentário  setor , mantendo  despesas  acordo   valores dimensionados , acompanhando resultados  buscando alternativas  eficiência econômica . Prestar suporte técnico  gestor  área  assuntos relacionados  setor  atividades   responsabilidade , seguindo determinações   responsável imediato . Cumprir  legislação  políticas  Empresa , bem   padrões  procedimentos  saúde , segurança  meio ambiente , zelar  condições  higiene  organização  ambiente  trabalho . Auxiliar  controle  informações  valores  venda  pedidos através  SAP ,  acordo   critérios estabelecidas . Elaborar  executar  atualização  relatórios  indicadores  setor , acompanhando  analisando resultados ,  fim  garantir  cumprimento  procedimentos , metas ,  ações corretivas necessárias . Atuar  desenvolvimento  aplicação  novos projetos  processos , assegurando  devida implantação . Aplicar melhorias  processos , produtos  serviços sob  responsabilidade , visando garantir resultados efetivos  resguardando  segurança  ativos  Empresa . Manter  cumprir  políticas institucionais junto  fornecedores  órgãos externos , assegurando  devido comportamento ético  relacionamento  parceiros  negócio . Elaborar relatórios gerenciais  acompanhamento  desempenho  áreas  negócio , dando suporte  áreas não-financeiras , orçamento , forecast  análises  cenário  dar suporte  tomada  decisão . Realizar análises  viabilidade financeira  projetos , auxiliando  fechamento contábil  análise  demonstrações contábeis . Elaborar informações gerenciais  contábeis , seguindo  regras  conversões  normas contábeis através  registro  acompanhamento  números , buscando  informações  diversos sistemas SAP , CRS , BPC  balanços locais . \n",
            "coordenar , planejar , controlar  acompanhar  processos  movimento  transações financeiras  empresas   liquidez  rentabilidade  operações financeiras ,  acordo   políticas adotadas  mesma.Cumprir  legislação  políticas  Empresa , bem   padrões  procedimentos  saúde , segurança  meio ambiente , zelar  condições  higiene  organização  ambiente  trabalho . Controlar  acompanhar  pagamentos  recebimentos  clientes  exterior , através  negociação  acompanhamento  transações cambiais , visando garantir  melhores taxas  negociações  moeda estrangeira  consequente efetivação  operações internacionais  empresa . Garantir  desenvolvimento  aplicação  novos projetos  processos ,  fim  assegurar  devida implantação . Acompanhar  resultados apurados  aplicações financeiras  empresa , observando  cumprimento  acordos  taxas  condições  investimentos contratados junto  instituições financeiras . Participar  elaboração  acompanhar  plano orçamentário  área , mantendo  despesas  acordo   valores dimensionados , acompanhando resultados  buscando alternativas  eficiência . Aplicar políticas  práticas  gestão  pessoas , assegurando  desenvolvimento  equipe  foco  resultados , garantindo  conduta  respeito  pessoas   manutenção  clima organizacional . Assegurar  cumprimento  legislação , bem   normas  políticas institucionais  Empresa , assim   cumprimento  padrões estabelecidos ,  zelando  patrimônio  Empresa . Coordenar  condições  reciprocidade oferecidas  rede bancária credenciada ,  processos  cobrança . Manter  cumprir  políticas institucionais junto  fornecedores  órgãos externos , assegurando  devido comportamento ético  relacionamento  parceiros  negócio . Coordenar  direcionar  atividades  equipe , orientando  responsáveis  setores  processos , apoiando  buscando  meios  garantir  alcance  resultados . Buscar  aplicar melhorias  processos , produtos  serviços sob  responsabilidade , visando garantir resultados efetivos  resguardando  segurança  ativos  Empresa . Acompanhar  negociações  acertos  débitos  clientes , orientando sobre  condições  favoráveis   partes . Coordenar  fluxo  caixa  empresa , compatibilizando  créditos  pagamentos programados   operações realizadas ,  provisionar recursos  empresa  liquidação  compromissos . Coordenar , planejar , controlar  acompanhar  processos  movimento  transações financeiras  Empresas   liquidez  rentabilidade  operações financeiras ,  acordo   políticas adotadas  mesma . Elaborar relatórios  indicadores  setores sob  responsabilidade , acompanhando  analisando resultados ,  fim  garantir  cumprimento  procedimentos , metas ,  ações corretivas necessárias . \n",
            "controlar  executar  atividades  área financeira ,  conciliação bancária , crédito  cobrança , emissão  acompanhamento  notas fiscais , tesouraria , controle  análise  fluxo  caixa  curto  longo prazo  operações financeiras  bancos.Controlar  pagamento  contas  água  luz  todas  Unidades  Empresa , conferindo   débitos fecharam  acordo   pagamentos efetuados . Elaborar , gerenciar  controlar todos  contratos  Empresa , cadastrando  acompanhando prazos , condições  recebimento  condições  preços . Identificar  classificar , diariamente ,  lançamentos bancários , efetuados  contas  Empresa , certificando-se  legitimidade  mesmos  tomando  medidas necessárias  identificar erros . Cumprir  legislação  políticas  Empresa , bem   padrões  procedimentos  saúde , segurança  meio ambiente , zelar  condições  higiene  organização  ambiente  trabalho . Assegurar  cumprimento  legislação , bem   normas  políticas institucionais  Empresa , assim   cumprimento  padrões estabelecidos ,  zelando  patrimônio  Empresa . Executar  implantação  planos  trabalho  procedimentos  setor , efetivando  acompanhando  ações técnicas necessárias ,  fim  alcançar  objetivos  metas estabelecidas . Acompanhar sistematicamente  cenário econômico nacional  internacional ,  vistas  identificar oportunidades  agilizar possíveis mudanças preventivas  corretivas . Coordenar  atividades  registros referentes  cadastro , análise  crédito  cobrança  clientes . Controlar  executar  atividades  área financeira ,  conciliação bancária , crédito  cobrança , emissão  acompanhamento  notas fiscais , tesouraria , controle  análise  fluxo  caixa  curto  longo prazo  operações financeiras  bancos . Informar trimestralmente  Receita Federal quais  impostos retidos  recolhidos  fonte , através  DCTF ( Declaração  Débitos  Créditos Tributários Federais ) . Aplicar melhorias  processos , produtos  serviços sob  responsabilidade , visando garantir resultados efetivos  resguardando  segurança  ativos  Empresa . Manter  cumprir  políticas institucionais junto  fornecedores  órgãos externos , assegurando  devido comportamento ético  relacionamento  parceiros  negócio . Autorizar  liberação  pagamento  todos  contratos  prestação  serviços  fornecedores  Empresa . Recolher todos  impostos  Notas Fiscais  chegam  serem pagas  Empresa . Informar anualmente  Receita Federal através  DIRF ( Declaração  Imposto  Renda retido  Fonte ) ,  rendimentos  declaração  Pessoas Jurídicas  Pessoas Físicas ( Terceiros ) . Acompanhar sistematicamente  mercado financeiro ,  vistas  identificar oportunidades , agilizar possíveis mudanças  reduzir custos . Aplicar conhecimento  habilidade técnica  atividades  processos  setor ,  fim  aperfeiçoar  esforços   alcance  resultados . Atuar  desenvolvimento  aplicação  novos projetos  processos ,  fim  assegurar  devida implantação . \n",
            "realizar  operações  processamento  monitoramento  contas  pagar  empresa ,  acordo   procedimentos  normas estabelecidas , atuando  forma eficiente   precisão visando  pagamento  títulos  outros compromissos financeiros  empresa  datas corretas.Verificar  efetivação  pagamentos programados ,  fim  conciliar valores   posições  débitos  saldos  contas correntes . Fazer lançamento  classificação financeira/ contábil correspondente  despesas administrativas . Controlar  organizar  documentação  pagamentos liquidados , anexando  comprovantes bancários  encaminhar   áreas competentes  envolvidas  fins  comprovações  auditoria externa . Controlar  saldo  aplicações financeiras   contas correntes ,  fim  compatibilizar  disponível   previsões  pagamentos  serem efetuados . Controlar , apurar  emitir guias referente  IRRF , ISS  INSS referente  terceiros . Realizar  operações  processamento  monitoramento  Contas  Pagar  empresa ,  acordo   procedimentos  normas estabelecidas , atuando  forma eficiente   precisão visando  pagamento  títulos  outros compromissos financeiros  empresa  datas corretas . Executar  controlar  atividades  contas  pagar ( recebimento , conferência  pagamento ) , efetuando  lançamentos  disponibilizados  áreas  sistema SAP . Elaborar  executar  atualização  relatórios  indicadores  setor , acompanhando  analisando resultados ,  fim  garantir  cumprimento  procedimentos , metas ,  ações corretivas necessárias . Atuar  desenvolvimento  aplicação  novos projetos  processos , assegurando  devida implantação . Executar  implantação  planos  trabalho  procedimentos  setor , analisando  efetivando  realização  ações  atividades relacionadas , visando  alcance  objetivos  metas estabelecidas . Conferir lançamentos contábeis correspondentes  despesas administrativas   fornecedores . Receber  conferir  documentos  pagar , efetuar  devidas alterações  sistema  emitir  relatório  compromissos  pagar . Emitir cheques  preparar  depósitos , enviando-os  bancos  efetivação  pagamentos . Elaborar  fluxo  caixa  Empresa ,  fim  compatibilizar  previsto e/ou orçado   realizado , subsidiando  Coordenação  tomada  decisões . Assegurar  cumprimento  legislação , bem   normas  políticas institucionais  Empresa , assim   cumprimento  padrões estabelecidos ,  zelando  patrimônio  Empresa . Manter  cumprir  políticas institucionais junto  fornecedores  órgãos externos , assegurando  devido comportamento ético  relacionamento  parceiros  negócio . Aplicar conhecimento técnico  operacional  ações  atividades  serem desenvolvidas  setor , visando  análise  processos ,  fim  aperfeiçoar  esforços   alcance  resultados . Prestar suporte técnico  gestor  área  assuntos relacionados  setor  atividades   responsabilidade , seguindo determinações   responsável imediato . Aplicar melhorias  processos , produtos  serviços sob  responsabilidade , visando garantir resultados efetivos  resguardando  segurança  ativos  Empresa . Cumprir  legislação  políticas  Empresa , bem   padrões  procedimentos  saúde , segurança  meio ambiente , zelar  condições  higiene  organização  ambiente  trabalho . \n",
            "realizar  controle  liquidação  títulos  vencimentos , realizando  baixa  sistema  cobrança  débitos  aberto.Executar  implantação  planos  trabalho  procedimentos  setor , analisando  efetivando  realização  ações  atividades relacionadas , visando  alcance  objetivos  metas estabelecidas . Assegurar  cumprimento  legislação , bem   normas  políticas institucionais  Empresa , assim   cumprimento  padrões estabelecidos ,  zelando  patrimônio  Empresa . Prestar suporte técnico  gestor  área  assuntos relacionados  setor  atividades   responsabilidade , seguindo determinações   responsável imediato . Cumprir  legislação  políticas  Empresa , bem   padrões  procedimentos  saúde , segurança  meio ambiente , zelar  condições  higiene  organização  ambiente  trabalho . Realizar  recebimento  créditos  pagamentos  débitos , acompanhando  comportamento  receitas  despesas , bem   casos  inadimplência , propondo  adoção  medidas preventivas  corretivas . Elaborar  executar  atualização  relatórios  indicadores  setor , acompanhando  analisando resultados ,  fim  garantir  cumprimento  procedimentos , metas ,  ações corretivas necessárias . Atuar  desenvolvimento  aplicação  novos projetos  processos , assegurando  devida implantação . Manter  cumprir  políticas institucionais junto  fornecedores  órgãos externos , assegurando  devido comportamento ético  relacionamento  parceiros  negócio . Aplicar melhorias  processos , produtos  serviços sob  responsabilidade , visando garantir resultados efetivos  resguardando  segurança  ativos  Empresa . Contatar clientes inadimplentes , oferecendo opções  pagamento  débitos   Empresa    adeque   necessidades . Prestar apoio  Filiais  relações  atividades  cobrança , instruindo bancos sobre alterações  duplicatas visando  regularização  títulos bancários . Organizar  conferir toda  documentação relativa  recebimento  pagamento diário  caixa  proceder   envio   contabilidade . Aplicar conhecimento técnico  operacional  ações  atividades  serem desenvolvidas  setor , visando  análise  processos ,  fim  aperfeiçoar  esforços   alcance  resultados . Cadastrar  opções  recebimento  clientes inadimplentes  administrar  forma  pagamento escolhida . Realizar  controle  liquidação  títulos  vencimentos , realizando  baixa  sistema  cobrança  débitos  aberto . Realizar  atividades relativas  recebimento  caixa  Empresa , verificando  atualizando  NP ’ s , quitando  documentos , lançando  sistema  efeito  baixa , conforme rotinas  procedimentos  área . \n",
            "realizar  controle  acompanhamento  fluxo  caixa , assim   atividades  rotinas  departamento  tesouraria , atuando  controle , acompanhamento  projeção diária  fluxo  caixa , análise  entradas  saídas  recursos  caixa  necessidade  transferências  empresas  grupo , ter participação efetiva  fechamentos contábeis  relacionamento  bancos.Assegurar  elaboração   fechamento diário  fluxo  caixa , através  acompanhamento  conferência  recebimentos  pagamentos   análise  documentos . Controlar  acompanhar  rentabilidade  carteira  dívida bancária . Acompanhar  realização  orçamento , fazendo  ajustes necessários  revisões mensais . Aplicar conhecimento técnico  operacional  ações  atividades  serem desenvolvidas  setor , visando  análise  processos ,  fim  aperfeiçoar  esforços   alcance  resultados . Prestar suporte técnico  gestor  área  assuntos relacionados  setor  atividades   responsabilidade , seguindo determinações   responsável imediato . Elaborar  executar  atualização  relatórios  indicadores  setor , acompanhando  analisando resultados ,  fim  garantir  cumprimento  procedimentos , metas ,  ações corretivas necessárias . Atuar  desenvolvimento  aplicação  novos projetos  processos , assegurando  devida implantação . Cumprir  legislação  políticas  Empresa , bem   padrões  procedimentos  saúde , segurança  meio ambiente , zelar  condições  higiene  organização  ambiente  trabalho . Executar  implantação  planos  trabalho  procedimentos  setor , analisando  efetivando  realização  ações  atividades relacionadas , visando  alcance  objetivos  metas estabelecidas . Assegurar  cumprimento  legislação , bem   normas  políticas institucionais  Empresa , assim   cumprimento  padrões estabelecidos ,  zelando  patrimônio  Empresa . Preparar relatórios  renovação  apólices  seguro  encaminhamento  acompanhamento  providências quanto  sinistros ocorridos . Aplicar melhorias  processos , produtos  serviços sob  responsabilidade , visando garantir resultados efetivos  resguardando  segurança  ativos  Empresa . Controlar  acompanhar  plano orçamentário  setor , mantendo  despesas  acordo   valores dimensionados , acompanhando resultados  buscando alternativas  eficiência econômica . Manter  cumprir  políticas institucionais junto  fornecedores  órgãos externos , assegurando  devido comportamento ético  relacionamento  parceiros  negócio . Realizar  controle  acompanhamento  fluxo  caixa , assim   atividades  rotinas  departamento  tesouraria , atuando  controle , acompanhamento  projeção diária  fluxo  caixa , análise  entradas  saídas  recursos  caixa  necessidade  transferências  empresas  grupo , ter participação efetiva  fechamentos contábeis  relacionamento  bancos . Contribuir   pagamento  despesas , através  preparação  cheques  borderôs , conforme documentação comprobatória , encaminhamento  aprovação  assinatura  pessoas autorizadas . Prestar suporte  elaboração  inventário físico  materiais , auditando , apurando  analisando diferenças encontradas   contagens  saldos contábeis , bem  efetuar  ajustes necessários , visando  apuração real  saldos  estoques . Garantir  exatidão  lançamentos , mediante  coleta  informações bancárias , análise  dados apurados  emissão  relatórios gerenciais . \n",
            "prestar suporte técnico , acompanhando  estudo , seleção , planejamento , instalação , implantação  manutenção  sistemas corporativos integrados ( sap )  outros sistemas aplicativos  apoio  usuário , implantando rotinas  melhoria  operação  computador , elaborando documentação  rotina , padronizando  programação  sistemas , atendendo  necessidades  cada área  usuários , administrando software  acompanhando  performance  recursos técnicos instalados , visando otimizar  uso   operação  equipamentos  sistemas aplicativos.Implantar novas tecnologias  projetos  funcionamento  sistema corporativo integrado ( SAP ) , conduzindo  trabalhos  administração local   longa distância . Cumprir  legislação  políticas  Empresa , bem   padrões  procedimentos  saúde , segurança  meio ambiente , zelar  condições  higiene  organização  ambiente  trabalho . Desenvolver  relação  integração   demais áreas  Empresa , buscando  relação  cooperação  maior disponibilidade  sistema . Aplicar melhorias  processos , produtos  serviços sob  responsabilidade , visando garantir resultados efetivos  resguardando  segurança  ativos  Empresa . Realizar  arquitetura , método  acesso/atualização  dados , armazenamento  arquivos físicos  sistema corporativo integrado ( SAP ) , zelando  manutenção , segurança  integridade  bases  dados , mediante  realização  suporte necessário  desenvolvimento . Planejar  implantar rotinas  visem  melhoria  performance  servidores , através  acompanhamento  performance  recursos técnicos instalados   padronização  sistemas  aplicação . Contribuir   planejamento  atividades desenvolvidas  área  Sistemas , visando  implementação  novas aplicações , software , bem   aplicação  eficiência . Prestar suporte técnico  gestor  área  assuntos relacionados  setor  atividades   responsabilidade , seguindo determinações   responsável imediato . Aplicar conhecimento técnico  operacional  ações  atividades  serem desenvolvidas  setor , visando  análise  processos ,  fim  aperfeiçoar  esforços   alcance  resultados . Manter  cumprir  políticas institucionais junto  fornecedores  órgãos externos , assegurando  devido comportamento ético  relacionamento  parceiros  negócio . Elaborar  executar  atualização  relatórios  indicadores  setor , acompanhando  analisando resultados ,  fim  garantir  cumprimento  procedimentos , metas ,  ações corretivas necessárias . Executar  implantação  planos  trabalho  procedimentos  setor , analisando  efetivando  realização  ações  atividades relacionadas , visando  alcance  objetivos  metas estabelecidas . Instalação/configuração  sistema corporativo integrados ( SAP ) . Atuar  desenvolvimento  aplicação  novos projetos  processos , assegurando  devida implantação . Dar manutenção e/ou encaminhar solicitação  manutenção  sistemas aplicativos , apoiando tecnicamente  usuários internos  externos envolvidos   sistema corporativo , tirando dúvidas  solucionando problemas surgidos durante  planejamento , instalação , implementação  operacionalização . Assegurar  cumprimento  legislação , bem   normas  políticas institucionais  Empresa , assim   cumprimento  padrões estabelecidos ,  zelando  patrimônio  Empresa . \n",
            "executar atividades relacionadas  serviços  telecomunicações , analisando propostas técnicas , instalando , configurando  inspecionando sistemas , executando testes  ensaios . projetar , planejar  especificar sistemas  telecomunicações  elaborar  documentação técnica.Acompanhar através  roteadores  funcionamento  operacionalidade  sistemas  meio  verificação visual   software  fim  garantir resultados satisfatórios . Fazer contatos externos  fornecedores através  telefonia  solicitar informações , consultoria  outras necessidades . Cumprir  legislação  políticas  Empresa , bem   padrões  procedimentos  saúde , segurança  meio ambiente , zelar  condições  higiene  organização  ambiente  trabalho . Emitir relatórios estatísticos periódicos  indicadores qualitativos  quantitativos  desempenho   capacidade  rede , atuar , sob prioridades estabelecidas  procedimentos  implantação ,   todas  solicitações  implantação ocorram dentro  prazos estabelecidos . Elaborar  executar  atualização  relatórios  indicadores  setor , acompanhando  analisando resultados ,  fim  garantir  cumprimento  procedimentos , metas ,  ações corretivas necessárias . Atuar  desenvolvimento  aplicação  novos projetos  processos , assegurando  devida implantação . Fiscalizar diariamente ,  acompanhamento  terceirizados fazendo recebimento  mantendo  padrões estabelecidos . Executar  implantação  planos  trabalho  procedimentos  setor , analisando  efetivando  realização  ações  atividades relacionadas , visando  alcance  objetivos  metas estabelecidas . Analisar mensalmente ,  projeto  cabeamento fazendo descrição  projeto   planta visando melhorar  atendimento  rede  computadores . Negociar   empresas  telefonias visando conseguir novas tecnologias  reduzir custos . Verificar aparelhos ar condicionado  Grupo Motor Gerador  atendem  CPD . Assegurar  cumprimento  legislação , bem   normas  políticas institucionais  Empresa , assim   cumprimento  padrões estabelecidos ,  zelando  patrimônio  Empresa . Atender reclamações  clientes internos sobre problema  linha telefônica , visando restabelecer  comunicação   breve possível . Aplicar conhecimento técnico  operacional  ações  atividades  serem desenvolvidas  setor , visando  análise  processos ,  fim  aperfeiçoar  esforços   alcance  resultados . Aplicar melhorias  processos , produtos  serviços sob  responsabilidade , visando garantir resultados efetivos  resguardando  segurança  ativos  Empresa . Prestar suporte técnico  gestor  área  assuntos relacionados  setor  atividades   responsabilidade , seguindo determinações   responsável imediato . Manter  cumprir  políticas institucionais junto  fornecedores  órgãos externos , assegurando  devido comportamento ético  relacionamento  parceiros  negócio . Controlar  acompanhar contas  contatos através  análise  apuração , tomando medidas necessárias  minimizar custo ampliar  rede  renovar locações  equipamento . Controlar  central telefônica fazendo verificação  alarmes  evitar possíveis falhas . Definir parâmetros  seguir normas internas junto  gerência  conclusão  projetos . Realizar  controle diária “ NO BREAK ” através   verificação física  medidas elétricas  garantir  confiabilidade . Solucionar defeitos identificados  rede , internet , MPLS  vipphone  parceria   equipe  informática . Realizar  verificação física  unidades diariamente verificando  funcionamento  central telefônica ,  roteadores  linhas internas , mantendo  qualidade  usuários . \n",
            "efetuar  controle  acompanhamento  fornecedores  mercadorias , nacionais e/ou importadas , adquiridas  empresa , desde  saída  fornecedor   entrega , auxiliando  controle  fretes , seguros , galpões  armazenamento , visando cumprir   prazos  entrega   qualidade  materiais solicitados , atendendo  expectativas  empresa.Realizar interface   área  planejamento , visando garantir melhores níveis  entrega . Manter  cumprir  políticas institucionais junto  fornecedores  órgãos externos , assegurando  devido comportamento ético  relacionamento  parceiros  negócio . Emitir documento   informações  constam  nota fiscal  faturamento ,  acordo   pedidos  clientes ,  atender  demandas  mesmos  garantir  faturamento  Empresa . Manter  empresa atualizada quanto data  chegada  insumos , máquinas  equipamentos comprados , verificando  entrega  materiais dentro  prazo preestabelecido . Analisar  ordens  vendas   melhor maneira  atendimento . Emitir relatórios  informações gerenciais tais  tempo  saída  notas fiscais , prazo  entrega  transportadoras , número  devoluções , custo frete  região , dentre outros indicadores determinados  chefia imediata . Controlar  acompanhar  rotas  despachos , garantindo maior  melhor eficiência  transporte . Realizar  transferência  equipamentos e/ou materiais  Unidades ,  base  dados emitidos  Setor Almoxarifado . Elaborar  executar  atualização  relatórios  indicadores  setor , acompanhando  analisando resultados ,  fim  garantir  cumprimento  procedimentos , metas ,  ações corretivas necessárias . Atuar  desenvolvimento  aplicação  novos projetos  processos , assegurando  devida implantação . Controlar  inventários físicos determinados  organização . Executar  implantação  planos  trabalho  procedimentos  setor , analisando  efetivando  realização  ações  atividades relacionadas , visando  alcance  objetivos  metas estabelecidas . Usar adequadamente  EPI ’ s ( Equipamentos  Proteção Individual ) , fornecido  empresa  zelar  condições  higiene  organização  ambiente  trabalho . Emitir documento   informações  constam  nota discal ( picking )  acompanhar  emissão  nota  setor fiscal  equipamentos   materiais  Empresa . Controlar  acompanhar junto  transportadoras  datas acordadas  saída  mercadorias , garantindo  cumprimento  entrega  prazo estabelecido . Cumprir  legislação  políticas  Empresa , bem   padrões  procedimentos  saúde , segurança  meio ambiente , zelar  condições  higiene  organização  ambiente  trabalho . Assegurar  cumprimento  legislação , bem   normas  políticas institucionais  Empresa , assim   cumprimento  padrões estabelecidos ,  zelando  patrimônio  Empresa . Efetuar  controle  acompanhamento  fornecedores  mercadorias , nacionais e/ou importadas , adquiridas  Empresa , desde  saída  fornecedor   entrega , auxiliando  controle  fretes , seguros , galpões  armazenamento , visando cumprir   prazos  entrega   qualidade  materiais solicitados . Aplicar conhecimento técnico  operacional  ações  atividades  serem desenvolvidas  setor , visando  análise  processos ,  fim  aperfeiçoar  esforços   alcance  resultados . Prestar suporte técnico  gestor  área  assuntos relacionados  setor  atividades   responsabilidade , seguindo determinações   responsável imediato . Aplicar melhorias  processos , produtos  serviços sob  responsabilidade , visando garantir resultados efetivos  resguardando  segurança  ativos  Empresa . \n",
            "analisar  executar  operações  comércio internacional  importação  exportação  produtos comercializados  empresa.Aplicar conhecimento técnico  operacional  ações  atividades  serem desenvolvidas  setor , visando  análise  processos ,  fim  aperfeiçoar  esforços   alcance  resultados . Conferir  fechamento contábil  custos  importação . Realizar  acompanhamento desembaraço aduaneiro ,  conjunto  despachantes credenciados . Controlar  processos  comercialização internacional , analisando  tendências  mercado , identificando   promissores . Executar  implantação  planos  trabalho  procedimentos  setor , analisando  efetivando  realização  ações  atividades relacionadas , visando  alcance  objetivos  metas estabelecidas . Assegurar  cumprimento  legislação , bem   normas  políticas institucionais  Empresa , assim   cumprimento  padrões estabelecidos ,  zelando  patrimônio  Empresa . Prestar suporte técnico  gestor  área  assuntos relacionados  setor  atividades   responsabilidade , seguindo determinações   responsável imediato . Cumprir  legislação  políticas  Empresa , bem   padrões  procedimentos  saúde , segurança  meio ambiente , zelar  condições  higiene  organização  ambiente  trabalho . Realizar contato   agentes  carga  despachantes . Elaborar  executar  atualização  relatórios  indicadores  setor , acompanhando  analisando resultados ,  fim  garantir  cumprimento  procedimentos , metas ,  ações corretivas necessárias . Organizar procedimentos   transação , importação  exportação , além  definir  meio  transporte  adequado   efetivação  negócio  cada caso . Atuar  desenvolvimento  aplicação  novos projetos  processos , assegurando  devida implantação . Aplicar melhorias  processos , produtos  serviços sob  responsabilidade , visando garantir resultados efetivos  resguardando  segurança  ativos  Empresa . Manter  cumprir  políticas institucionais junto  fornecedores  órgãos externos , assegurando  devido comportamento ético  relacionamento  parceiros  negócio . Conferir relatórios  despesas efetuadas  despachantes , referentes  pagamentos  fretes , taxas , impostos  outros . Realizar  planejamento  importações  exportações , elaborando estratégias    produtos conquistem novos mercados . Analisar  controlar  fluxo  documentos  operações , regime alfandegários  cambial . Acompanhar  cronograma  entrega junto  fornecedores  clientes . Acompanhar embarques desde  origem   entrega  carga , mantendo contato   cliente  agentes  exterior . \n",
            "analisar  controlar  processo  importação  compras , garantindo  prazos  custos estabelecidos , através  negociação  fornecedores ,  garantir  atendimento  demandas.Aplicar conhecimento técnico  operacional  ações  atividades  serem desenvolvidas  setor , visando  análise  processos ,  fim  aperfeiçoar  esforços   alcance  resultados . Analisar divergências  faturas recebidas , realizando comparativo  fatura  pedido , garantindo  cumprimento  pedido negociado . Controlar  acompanhar  entregas , garantindo   realizadas dentro  prazo estabelecido  informado  sistema . Preparar guias  importação , mediante  recebimento  ordem  compra . Efetuar  centralização  organização  contratos  prestadores  serviço , arquivando  controlando  valores cobrados  monitoramento  despesas  condições . Executar  implantação  planos  trabalho  procedimentos  setor , analisando  efetivando  realização  ações  atividades relacionadas , visando  alcance  objetivos  metas estabelecidas . Assegurar  cumprimento  legislação , bem   normas  políticas institucionais  Empresa , assim   cumprimento  padrões estabelecidos ,  zelando  patrimônio  Empresa . Prestar suporte técnico  gestor  área  assuntos relacionados  setor  atividades   responsabilidade , seguindo determinações   responsável imediato . Cumprir  legislação  políticas  Empresa , bem   padrões  procedimentos  saúde , segurança  meio ambiente , zelar  condições  higiene  organização  ambiente  trabalho . Elaborar  executar  atualização  relatórios  indicadores  setor , acompanhando  analisando resultados ,  fim  garantir  cumprimento  procedimentos , metas ,  ações corretivas necessárias . Atuar  desenvolvimento  aplicação  novos projetos  processos , assegurando  devida implantação . Acompanha  embarque  materiais importados , providenciando  seguro . Analisar  controlar  processo  importação  compras , garantindo  prazos  custos estabelecidos , através  negociação  fornecedores ,  garantir  atendimento  demandas . Elaborar planilhas  gráficos  evoluções  prazo  produtos objetos  compra , através  sistema SAP objetivando  análise histórica  condições  fornecimento . Aplicar melhorias  processos , produtos  serviços sob  responsabilidade , visando garantir resultados efetivos  resguardando  segurança  ativos  Empresa . Acompanhar  controlar  recebimentos  liquidações  câmbio , providenciando  baixa  duplicatas  departamento  contas  receber . Manter  cumprir  políticas institucionais junto  fornecedores  órgãos externos , assegurando  devido comportamento ético  relacionamento  parceiros  negócio . Emitir relatórios  informações sobre remessas enviadas  exterior . Controlar  pagamentos  materiais comprados  exterior . \n",
            "executar  processo  compras  empresa , através  cotação  preços  negociação  fornecedores ,  garantir  atendimento  demandas.Aplicar conhecimento técnico  operacional  ações  atividades  serem desenvolvidas  setor , visando  análise  processos ,  fim  aperfeiçoar  esforços   alcance  resultados . Controlar  alterar  cadastro  materiais  fornecedores   informações necessárias   área  compras , através  sistema  garantir agilidade  processo  aprovação  solicitações . Controlar  acompanhar  entregas , garantindo   realizadas dentro  prazo estabelecido  informado  sistema . Analisar  pedidos recebidos , verificando  tipo  mercadoria , quantidade  qualidade exigidas  providenciar  atendimento  mesmos ,  acordo   programação estabelecida  necessidade  reposição  produtos . Elaborar planilhas  gráficos  evoluções  prazo  produtos objetos  compra , através  sistema SAP objetivando  análise histórica  condições  fornecimento . Emitir  Ordem  Compra  enviar  aprovação ,  fim   efetuar  compra . Executar  implantação  planos  trabalho  procedimentos  setor , analisando  efetivando  realização  ações  atividades relacionadas , visando  alcance  objetivos  metas estabelecidas . Assegurar  cumprimento  legislação , bem   normas  políticas institucionais  Empresa , assim   cumprimento  padrões estabelecidos ,  zelando  patrimônio  Empresa . Prestar suporte técnico  gestor  área  assuntos relacionados  setor  atividades   responsabilidade , seguindo determinações   responsável imediato . Cumprir  legislação  políticas  Empresa , bem   padrões  procedimentos  saúde , segurança  meio ambiente , zelar  condições  higiene  organização  ambiente  trabalho . Elaborar  executar  atualização  relatórios  indicadores  setor , acompanhando  analisando resultados ,  fim  garantir  cumprimento  procedimentos , metas ,  ações corretivas necessárias . Cadastrar fornecedores  agilizar  processo  compras . Atuar  desenvolvimento  aplicação  novos projetos  processos , assegurando  devida implantação . Aplicar melhorias  processos , produtos  serviços sob  responsabilidade , visando garantir resultados efetivos  resguardando  segurança  ativos  Empresa . Analisar divergências  faturas recebidas , realizando comparativo  fatura  pedido , garantindo  cumprimento  pedido negociado . Manter  cumprir  políticas institucionais junto  fornecedores  órgãos externos , assegurando  devido comportamento ético  relacionamento  parceiros  negócio . Executar  processo  compras  Empresa , através  cotação  preços  negociação  fornecedores ,  garantir  atendimento  demandas . Efetuar  compra  encaminhar  cópia  Ordem  Compra   Almoxarifado fazer  conferência  mercadoria  ato  recebimento . Controlar  acompanhar  relatórios   conformidade  matéria-prima relacionados  compras , buscando  solução  rápida  eficaz junto  fornecedor . \n",
            "coordenar  cadeia  suprimentos , acompanhar  estoques  aprovar  solicitações  materiais . administrar  prospectar fornecedores , analisar  qualidade  fornecimento  implementar novos métodos , sistemas  processos , voltados  redução  custos  aumento  lucratividade.Participar  elaboração  acompanhar  plano orçamentário  área , mantendo  despesas  acordo   valores dimensionados , acompanhando resultados  buscando alternativas  eficiência . Aplicar políticas  práticas  gestão  pessoas , assegurando  desenvolvimento  equipe  foco  resultados , garantindo  conduta  respeito  pessoas   manutenção  clima organizacional . Manter  cumprir  políticas institucionais junto  fornecedores  órgãos externos , assegurando  devido comportamento ético  relacionamento  parceiros  negócio . Contribuir  escolha  novos materiais  serviços , mantendo-se atualizado , quanto  novidades introduzidas  mercado  sobre flutuações  preços . Coordenar  direcionar  atividades  equipe , orientando  responsáveis  setores  processos , apoiando  buscando  meios  garantir  alcance  resultados . Buscar  aplicar melhorias  processos , produtos  serviços sob  responsabilidade , visando garantir resultados efetivos  resguardando  segurança  ativos  Empresa . Prestar suporte técnico  gestor  área  assuntos relacionados  setor  atividades   responsabilidade , seguindo determinações   responsável imediato . Contatar fornecedores   compra  produtos  maior complexidade  custo , certificando-se  qualidade ,  acordo  especificações definidas , cotando  negociando preços  condições  pagamento , visando apresentar posicionamento  chefia   tomada  decisão . Assegurar  atendimento  solicitações  compras  Empresa , mediante  supervisão  equipe sob  coordenação ,  atendimento  programas  diretrizes estabelecidos  Empresa . Elaborar relatório semanal sobre  posição  compras , registrando dados  tipo  produto , visando  acompanhamento  verba mensal designada . Garantir  desenvolvimento  aplicação  novos projetos  processos ,  fim  assegurar  devida implantação . Conduzir  implantação  planos  trabalho  procedimentos  setores , assegurando  realização  ações  atividades relacionadas , garantindo  alcance  objetivos  metas estabelecidas . Acompanhar  nível  estoque , acompanhando periodicamente  baixas ocorridas , sugerindo eventuais modificações  solicitações  compras , visando  adequado suprimento  materiais  Empresa . Analisar  relação  produtos  serem adquiridos , orientando  equipe sob  coordenação ,  critérios  serem observados  cotação  preços , tais  : qualidade  produto , preço , prazos  pagamento   entrega , etc. , visando garantir  aquisição  itens , compatibilizando qualidade  custo . Contribuir   cumprimento  normas  qualidade , capacitação técnica  condições  pagamento exigidos  Empresa , através  visitas  fornecedores   instalações . Elaborar relatórios  indicadores  setores sob  responsabilidade , acompanhando  analisando resultados ,  fim  garantir  cumprimento  procedimentos , metas ,  ações corretivas necessárias . Assegurar  aplicação técnica  operacional  ações  atividades  serem desenvolvidas  setores , facilitando  integrando  trabalho  equipe , visando aperfeiçoar  esforços   alcance  resultados . Cumprir  legislação  políticas  Empresa , bem   padrões  procedimentos  saúde , segurança  meio ambiente , zelar  condições  higiene  organização  ambiente  trabalho . Assegurar  cumprimento  legislação , bem   normas  políticas institucionais  Empresa , assim   cumprimento  padrões estabelecidos ,  zelando  patrimônio  Empresa . Assegurar  qualidade  fornecimentos   serviços prestados ,   Empresa , mediante reclamações junto  fornecedores sobre incorreções apresentadas  materiais  serviços prestados , utilizando-se  informações detalhadas fornecidas  almoxarifado  usuário  serviço . Coordenar  elaboração  posição mensal  compras , efetuando considerações sobre resultados obtidos , visando fornecer subsídios  diretoria . \n"
          ],
          "name": "stdout"
        }
      ]
    },
    {
      "cell_type": "markdown",
      "metadata": {
        "id": "DFl8j-1wHcQ0",
        "colab_type": "text"
      },
      "source": [
        "Remoção de Pontuação"
      ]
    },
    {
      "cell_type": "code",
      "metadata": {
        "id": "rJ8NpzKOjhX4",
        "colab_type": "code",
        "colab": {}
      },
      "source": [
        "\n",
        "texts, article = [], []\n",
        "for cargo in listaCargosSemStopWords:\n",
        "  for w in cargo:\n",
        "    if not w.is_space and not w.is_punct:\n",
        "      article.append(w.lemma_)\n",
        "  texts.append(article)\n",
        "  article = []\n",
        "          "
      ],
      "execution_count": 0,
      "outputs": []
    },
    {
      "cell_type": "markdown",
      "metadata": {
        "id": "Kuf6dINOsnU-",
        "colab_type": "text"
      },
      "source": [
        ""
      ]
    },
    {
      "cell_type": "code",
      "metadata": {
        "id": "zaH2xCXNsbwD",
        "colab_type": "code",
        "colab": {}
      },
      "source": [
        "bigram = gensim.models.Phrases(texts)\n"
      ],
      "execution_count": 0,
      "outputs": []
    },
    {
      "cell_type": "code",
      "metadata": {
        "id": "4eLwe-16hnnO",
        "colab_type": "code",
        "outputId": "eb6ce0be-21e6-4ec9-cd14-587f72668b33",
        "colab": {
          "base_uri": "https://localhost:8080/",
          "height": 51
        }
      },
      "source": [
        "texts = [bigram[line] for line in texts]"
      ],
      "execution_count": 0,
      "outputs": [
        {
          "output_type": "stream",
          "text": [
            "/usr/local/lib/python3.6/dist-packages/gensim/models/phrases.py:598: UserWarning: For a faster implementation, use the gensim.models.phrases.Phraser class\n",
            "  warnings.warn(\"For a faster implementation, use the gensim.models.phrases.Phraser class\")\n"
          ],
          "name": "stderr"
        }
      ]
    },
    {
      "cell_type": "code",
      "metadata": {
        "id": "xN_99-lHhuRQ",
        "colab_type": "code",
        "outputId": "f4a3ac40-9b0f-4516-e4b9-1e6331a1feda",
        "colab": {
          "base_uri": "https://localhost:8080/",
          "height": 187
        }
      },
      "source": [
        "texts[7][0:10]"
      ],
      "execution_count": 0,
      "outputs": [
        {
          "output_type": "execute_result",
          "data": {
            "text/plain": [
              "['elaborar',\n",
              " 'relatório_gerenciais',\n",
              " 'acompanhamento',\n",
              " 'desempenhar',\n",
              " 'área',\n",
              " 'negócio',\n",
              " 'dar',\n",
              " 'suportar',\n",
              " 'área',\n",
              " 'não']"
            ]
          },
          "metadata": {
            "tags": []
          },
          "execution_count": 13
        }
      ]
    },
    {
      "cell_type": "markdown",
      "metadata": {
        "id": "r4RuwgvYIubQ",
        "colab_type": "text"
      },
      "source": [
        "### Bag of Words\n",
        "\n",
        "COnvertendo os  documentos tokenizados em uma matriz de termo de documento"
      ]
    },
    {
      "cell_type": "code",
      "metadata": {
        "id": "5YPj6NYxhvEq",
        "colab_type": "code",
        "colab": {}
      },
      "source": [
        "dictionary = Dictionary(texts)\n",
        "corpus = [dictionary.doc2bow(text) for text in texts]"
      ],
      "execution_count": 0,
      "outputs": []
    },
    {
      "cell_type": "code",
      "metadata": {
        "id": "BMj8t16zh0ez",
        "colab_type": "code",
        "outputId": "1b3d1669-64c8-46b1-cb42-105a68ffe461",
        "colab": {
          "base_uri": "https://localhost:8080/",
          "height": 2516
        }
      },
      "source": [
        "\n",
        "corpus[100]"
      ],
      "execution_count": 0,
      "outputs": [
        {
          "output_type": "execute_result",
          "data": {
            "text/plain": [
              "[(2, 1),\n",
              " (5, 2),\n",
              " (7, 1),\n",
              " (9, 3),\n",
              " (10, 3),\n",
              " (18, 1),\n",
              " (19, 1),\n",
              " (24, 1),\n",
              " (27, 1),\n",
              " (28, 1),\n",
              " (31, 7),\n",
              " (32, 1),\n",
              " (33, 1),\n",
              " (34, 8),\n",
              " (35, 1),\n",
              " (36, 1),\n",
              " (41, 4),\n",
              " (44, 1),\n",
              " (47, 1),\n",
              " (48, 1),\n",
              " (53, 1),\n",
              " (55, 1),\n",
              " (57, 2),\n",
              " (58, 1),\n",
              " (59, 1),\n",
              " (60, 1),\n",
              " (63, 1),\n",
              " (64, 1),\n",
              " (65, 2),\n",
              " (66, 1),\n",
              " (67, 2),\n",
              " (68, 1),\n",
              " (75, 4),\n",
              " (76, 2),\n",
              " (77, 1),\n",
              " (79, 1),\n",
              " (80, 2),\n",
              " (82, 3),\n",
              " (88, 1),\n",
              " (94, 1),\n",
              " (95, 1),\n",
              " (99, 2),\n",
              " (101, 2),\n",
              " (102, 2),\n",
              " (103, 4),\n",
              " (104, 1),\n",
              " (105, 2),\n",
              " (107, 2),\n",
              " (108, 5),\n",
              " (110, 1),\n",
              " (112, 2),\n",
              " (114, 4),\n",
              " (115, 1),\n",
              " (116, 1),\n",
              " (121, 1),\n",
              " (123, 1),\n",
              " (124, 1),\n",
              " (127, 1),\n",
              " (128, 1),\n",
              " (131, 2),\n",
              " (132, 1),\n",
              " (133, 2),\n",
              " (134, 3),\n",
              " (136, 3),\n",
              " (137, 1),\n",
              " (138, 3),\n",
              " (143, 4),\n",
              " (147, 2),\n",
              " (148, 2),\n",
              " (149, 1),\n",
              " (158, 1),\n",
              " (188, 2),\n",
              " (199, 1),\n",
              " (265, 4),\n",
              " (268, 1),\n",
              " (291, 1),\n",
              " (298, 1),\n",
              " (304, 1),\n",
              " (308, 1),\n",
              " (310, 1),\n",
              " (313, 2),\n",
              " (314, 1),\n",
              " (315, 1),\n",
              " (317, 1),\n",
              " (331, 1),\n",
              " (337, 1),\n",
              " (388, 1),\n",
              " (397, 1),\n",
              " (402, 1),\n",
              " (404, 1),\n",
              " (438, 1),\n",
              " (467, 1),\n",
              " (514, 1),\n",
              " (567, 1),\n",
              " (594, 1),\n",
              " (603, 1),\n",
              " (619, 1),\n",
              " (656, 1),\n",
              " (695, 1),\n",
              " (779, 2),\n",
              " (797, 1),\n",
              " (799, 1),\n",
              " (800, 1),\n",
              " (804, 1),\n",
              " (810, 2),\n",
              " (832, 1),\n",
              " (850, 1),\n",
              " (928, 2),\n",
              " (1031, 2),\n",
              " (1042, 1),\n",
              " (1045, 1),\n",
              " (1063, 1),\n",
              " (1077, 1),\n",
              " (1097, 3),\n",
              " (1151, 1),\n",
              " (1185, 1),\n",
              " (1213, 2),\n",
              " (1317, 1),\n",
              " (1331, 1),\n",
              " (1355, 3),\n",
              " (1407, 1),\n",
              " (1505, 1),\n",
              " (1509, 1),\n",
              " (1627, 2),\n",
              " (1759, 1),\n",
              " (1764, 2),\n",
              " (1800, 1),\n",
              " (1921, 1),\n",
              " (1942, 1),\n",
              " (1950, 1),\n",
              " (1992, 1),\n",
              " (2065, 1),\n",
              " (2102, 1),\n",
              " (2436, 1),\n",
              " (2437, 1),\n",
              " (2438, 2),\n",
              " (2439, 1),\n",
              " (2440, 1),\n",
              " (2441, 1),\n",
              " (2442, 1),\n",
              " (2443, 1),\n",
              " (2444, 1),\n",
              " (2445, 1),\n",
              " (2446, 1),\n",
              " (2447, 1),\n",
              " (2448, 1),\n",
              " (2449, 1)]"
            ]
          },
          "metadata": {
            "tags": []
          },
          "execution_count": 15
        }
      ]
    },
    {
      "cell_type": "markdown",
      "metadata": {
        "id": "zgD9yTDgKFOd",
        "colab_type": "text"
      },
      "source": [
        "### Latent semantic indexing (LSI)\n",
        "\n",
        "É um método de indexação e recuperação que utiliza uma técnica matemática chamada decomposição de valor singular (SVD) para identificar padrões nas relações entre os termos e conceitos contidos em uma coleção não estruturada de texto."
      ]
    },
    {
      "cell_type": "code",
      "metadata": {
        "id": "T10X8ECUh5hN",
        "colab_type": "code",
        "colab": {}
      },
      "source": [
        "lsimodel = LsiModel(corpus=corpus, num_topics=5, id2word=dictionary)"
      ],
      "execution_count": 0,
      "outputs": []
    },
    {
      "cell_type": "markdown",
      "metadata": {
        "id": "ETr402_yMB7P",
        "colab_type": "text"
      },
      "source": [
        "### Topicos Gerados"
      ]
    },
    {
      "cell_type": "code",
      "metadata": {
        "id": "8zO2JQCQiFJf",
        "colab_type": "code",
        "outputId": "eb035a9d-ab5f-456f-e684-17b98285ef0f",
        "colab": {
          "base_uri": "https://localhost:8080/",
          "height": 207
        }
      },
      "source": [
        "lsimodel.show_topics(num_topics=5)"
      ],
      "execution_count": 0,
      "outputs": [
        {
          "output_type": "execute_result",
          "data": {
            "text/plain": [
              "[(0,\n",
              "  '0.333*\"visar\" + 0.318*\"Empresa\" + 0.272*\"procedimento\" + 0.213*\"cumprimentar\" + 0.191*\"norma\" + 0.183*\"interno\" + 0.180*\"bem\" + 0.177*\"área\" + 0.174*\"acordar\" + 0.174*\"garantir\"'),\n",
              " (1,\n",
              "  '-0.334*\"segurança\" + -0.274*\"norma\" + 0.256*\"definir\" + 0.238*\"cumprimentar\" + -0.209*\"trabalhar\" + 0.202*\"meter\" + -0.159*\"equipamento\" + 0.154*\"visar\" + 0.153*\"Garantir\" + -0.151*\"saudar\"'),\n",
              " (2,\n",
              "  '-0.407*\"acordar\" + -0.377*\"interno\" + -0.334*\"procedimento\" + -0.269*\"definir\" + 0.244*\"fim\" + -0.191*\"visar\" + -0.148*\"vigente\" + 0.134*\"garantir\" + 0.132*\"trabalhar\" + 0.131*\"área\"'),\n",
              " (3,\n",
              "  '-0.299*\"setor\" + 0.252*\"segurança\" + -0.213*\"Empresa\" + 0.212*\"qualidade\" + 0.208*\"equipamento\" + 0.202*\"norma\" + 0.194*\"manutenção\" + -0.184*\"processo\" + -0.164*\"procedimento\" + 0.162*\"garantir\"'),\n",
              " (4,\n",
              "  '-0.506*\"Empresa\" + 0.230*\"área\" + 0.183*\"visar\" + 0.164*\"informação\" + 0.156*\"cliente\" + -0.152*\"cumprimentar\" + -0.133*\"saudar\" + 0.130*\"equipamento\" + 0.122*\"técnico\" + -0.122*\"definir\"')]"
            ]
          },
          "metadata": {
            "tags": []
          },
          "execution_count": 17
        }
      ]
    },
    {
      "cell_type": "markdown",
      "metadata": {
        "id": "lFuY1zCHJ5X_",
        "colab_type": "text"
      },
      "source": [
        "### Latent Dirichlet Allocation (LDA) \n",
        "É um exemplo de modelo de tópico e é usado para classificar o texto em um documento para um tópico específico."
      ]
    },
    {
      "cell_type": "code",
      "metadata": {
        "id": "ZAUV9UQXU70N",
        "colab_type": "code",
        "colab": {}
      },
      "source": [
        "ldamodel = LdaModel(corpus=corpus, num_topics=10, id2word=dictionary)"
      ],
      "execution_count": 0,
      "outputs": []
    },
    {
      "cell_type": "markdown",
      "metadata": {
        "id": "s0n7LscsL8lQ",
        "colab_type": "text"
      },
      "source": [
        "### Topicos Gerados"
      ]
    },
    {
      "cell_type": "code",
      "metadata": {
        "id": "d3JJf8r5hTqy",
        "colab_type": "code",
        "outputId": "78c0da5d-1ff9-4fb0-cf7b-88e7515bcad3",
        "colab": {
          "base_uri": "https://localhost:8080/",
          "height": 377
        }
      },
      "source": [
        "ldamodel.show_topics()"
      ],
      "execution_count": 0,
      "outputs": [
        {
          "output_type": "execute_result",
          "data": {
            "text/plain": [
              "[(0,\n",
              "  '0.015*\"Empresa\" + 0.014*\"visar\" + 0.013*\"área\" + 0.012*\"trabalhar\" + 0.012*\"fim\" + 0.012*\"norma\" + 0.010*\"serviço\" + 0.010*\"segurança\" + 0.009*\"garantir\" + 0.008*\"atividades\"'),\n",
              " (1,\n",
              "  '0.014*\"fim\" + 0.013*\"norma\" + 0.012*\"garantir\" + 0.011*\"segurança\" + 0.011*\"área\" + 0.009*\"bem\" + 0.009*\"visar\" + 0.009*\"acompanhar\" + 0.009*\"trabalhar\" + 0.008*\"Empresa\"'),\n",
              " (2,\n",
              "  '0.024*\"norma\" + 0.024*\"segurança\" + 0.019*\"procedimento\" + 0.019*\"visar\" + 0.018*\"Empresa\" + 0.016*\"acordar\" + 0.016*\"interno\" + 0.013*\"trabalhar\" + 0.010*\"bem\" + 0.010*\"padrão\"'),\n",
              " (3,\n",
              "  '0.013*\"manutenção\" + 0.013*\"equipamento\" + 0.012*\"procedimento\" + 0.011*\"visar\" + 0.011*\"segurança\" + 0.010*\"técnico\" + 0.009*\"bem\" + 0.008*\"trabalhar\" + 0.007*\"representar_risco\" + 0.007*\"Empresa\"'),\n",
              " (4,\n",
              "  '0.025*\"visar\" + 0.021*\"procedimento\" + 0.019*\"cumprimentar\" + 0.018*\"Empresa\" + 0.015*\"trabalhar\" + 0.014*\"norma\" + 0.014*\"segurança\" + 0.012*\"interno\" + 0.012*\"acordar\" + 0.012*\"garantir\"'),\n",
              " (5,\n",
              "  '0.018*\"Empresa\" + 0.016*\"área\" + 0.016*\"norma\" + 0.014*\"visar\" + 0.014*\"atividades\" + 0.013*\"procedimento\" + 0.012*\"estabelecido\" + 0.011*\"segurança\" + 0.011*\"setor\" + 0.011*\"bem\"'),\n",
              " (6,\n",
              "  '0.025*\"cliente\" + 0.013*\"cumprimentar\" + 0.012*\"acordar\" + 0.012*\"bem\" + 0.011*\"procedimento\" + 0.011*\"interno\" + 0.010*\"visar\" + 0.010*\"Empresa\" + 0.010*\"informação\" + 0.010*\"norma\"'),\n",
              " (7,\n",
              "  '0.019*\"visar\" + 0.017*\"norma\" + 0.017*\"Empresa\" + 0.017*\"procedimento\" + 0.013*\"acordar\" + 0.012*\"interno\" + 0.012*\"bem\" + 0.011*\"atividades\" + 0.011*\"área\" + 0.010*\"Realizar\"'),\n",
              " (8,\n",
              "  '0.029*\"visar\" + 0.021*\"Empresa\" + 0.019*\"cumprimentar\" + 0.017*\"definir\" + 0.017*\"área\" + 0.015*\"meter\" + 0.014*\"processo\" + 0.012*\"garantir\" + 0.012*\"bem\" + 0.010*\"interno\"'),\n",
              " (9,\n",
              "  '0.021*\"procedimento\" + 0.018*\"Empresa\" + 0.017*\"visar\" + 0.017*\"interno\" + 0.014*\"acordar\" + 0.013*\"bem\" + 0.012*\"informação\" + 0.012*\"área\" + 0.010*\"cumprimentar\" + 0.010*\"fim\"')]"
            ]
          },
          "metadata": {
            "tags": []
          },
          "execution_count": 21
        }
      ]
    }
  ]
}